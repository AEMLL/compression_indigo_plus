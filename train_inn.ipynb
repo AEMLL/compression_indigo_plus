{
 "cells": [
  {
   "cell_type": "markdown",
   "metadata": {},
   "source": [
    "# Setup"
   ]
  },
  {
   "cell_type": "markdown",
   "metadata": {},
   "source": [
    "The exisiting pre-trained INDIGO can be run using the inference script"
   ]
  },
  {
   "cell_type": "code",
   "execution_count": null,
   "metadata": {},
   "outputs": [],
   "source": [
    "%run inference.py \\\n",
    "    -i testdata/lr_medium --task restoration \\\n",
    "    --eta 0.5 --aligned  --use_fp16 \\\n",
    "    --config_indigo configs/sample/indigo_syn.yaml"
   ]
  },
  {
   "cell_type": "markdown",
   "metadata": {},
   "source": [
    "The INN segment of the architecture can be retrained using the train.py script below. The training script employs BasicSR framework to optimise CINN weights."
   ]
  },
  {
   "cell_type": "code",
   "execution_count": null,
   "metadata": {},
   "outputs": [
    {
     "name": "stdout",
     "output_type": "stream",
     "text": [
      "Disable distributed.\n",
      "Path already exists. Rename it to /rds/general/user/aem21/home/FYP/compression_indigo_plus/inn/experiments/BasicSR_Train_archived_20250408_191758\n",
      "Path already exists. Rename it to /rds/general/user/aem21/home/FYP/compression_indigo_plus/inn/tb_logger/BasicSR_Train_archived_20250408_191758\n"
     ]
    },
    {
     "name": "stderr",
     "output_type": "stream",
     "text": [
      "2025-04-08 19:17:58,756 INFO: \n",
      "                ____                _       _____  ____\n",
      "               / __ ) ____ _ _____ (_)_____/ ___/ / __ \\\n",
      "              / __  |/ __ `// ___// // ___/\\__ \\ / /_/ /\n",
      "             / /_/ // /_/ /(__  )/ // /__ ___/ // _, _/\n",
      "            /_____/ \\__,_//____//_/ \\___//____//_/ |_|\n",
      "     ______                   __   __                 __      __\n",
      "    / ____/____   ____   ____/ /  / /   __  __ _____ / /__   / /\n",
      "   / / __ / __ \\ / __ \\ / __  /  / /   / / / // ___// //_/  / /\n",
      "  / /_/ // /_/ // /_/ // /_/ /  / /___/ /_/ // /__ / /<    /_/\n",
      "  \\____/ \\____/ \\____/ \\____/  /_____/\\____/ \\___//_/|_|  (_)\n",
      "    \n",
      "Version Information: \n",
      "\tBasicSR: 1.4.2\n",
      "\tPyTorch: 2.5.1+cu124\n",
      "\tTorchVision: 0.20.1+cu124\n",
      "2025-04-08 19:17:58,757 INFO: \n",
      "  name: BasicSR_Train\n",
      "  model_type: CINNModel\n",
      "  scale: 4\n",
      "  num_gpu: 1\n",
      "  manual_seed: 0\n",
      "  datasets:[\n",
      "    train:[\n",
      "      name: FFHQJPEGTrain\n",
      "      type: FFHQJPEGDataset\n",
      "      dataroot_gt: datasets/ffhq/train\n",
      "      io_backend:[\n",
      "        type: disk\n",
      "      ]\n",
      "      gt_size: 1024\n",
      "      use_flip: True\n",
      "      use_rot: True\n",
      "      use_shuffle: True\n",
      "      num_worker_per_gpu: 3\n",
      "      batch_size_per_gpu: 8\n",
      "      dataset_enlarge_ratio: 1\n",
      "      prefetch_mode: None\n",
      "      phase: train\n",
      "      scale: 4\n",
      "    ]\n",
      "    val:[\n",
      "      name: FFHQJPEGVal\n",
      "      type: FFHQJPEGDataset\n",
      "      dataroot_gt: datasets/ffhq/val\n",
      "      io_backend:[\n",
      "        type: disk\n",
      "      ]\n",
      "      phase: val\n",
      "      scale: 4\n",
      "    ]\n",
      "  ]\n",
      "  network_g:[\n",
      "    type: RWNN\n",
      "    offset: 0.5\n",
      "    LiftNet_iter: 2\n",
      "    basic_block_type: rb_cres_kdsr\n",
      "    net_kdsr: None\n",
      "    kdsr: 1\n",
      "  ]\n",
      "  path:[\n",
      "    pretrain_network_g: None\n",
      "    strict_load_g: True\n",
      "    resume_state: None\n",
      "    experiments_root: /rds/general/user/aem21/home/FYP/compression_indigo_plus/inn/experiments/BasicSR_Train\n",
      "    models: /rds/general/user/aem21/home/FYP/compression_indigo_plus/inn/experiments/BasicSR_Train/models\n",
      "    training_states: /rds/general/user/aem21/home/FYP/compression_indigo_plus/inn/experiments/BasicSR_Train/training_states\n",
      "    log: /rds/general/user/aem21/home/FYP/compression_indigo_plus/inn/experiments/BasicSR_Train\n",
      "    visualization: /rds/general/user/aem21/home/FYP/compression_indigo_plus/inn/experiments/BasicSR_Train/visualization\n",
      "  ]\n",
      "  train:[\n",
      "    optim_g:[\n",
      "      type: Adam\n",
      "      lr: 2e-05\n",
      "      weight_decay: 0.001\n",
      "      betas: [0.9, 0.99]\n",
      "    ]\n",
      "    scheduler:[\n",
      "      type: MultiStepLR\n",
      "      milestones: [50000]\n",
      "      gamma: 0.5\n",
      "    ]\n",
      "    total_iter: 10000\n",
      "    warmup_iter: -1\n",
      "    l2_opt:[\n",
      "      type: MSELoss\n",
      "      loss_weight: 1.0\n",
      "      reduction: mean\n",
      "    ]\n",
      "  ]\n",
      "  val:[\n",
      "    val_freq: 5000.0\n",
      "    save_img: True\n",
      "    metrics:[\n",
      "      psnr:[\n",
      "        type: calculate_psnr\n",
      "        crop_border: 4\n",
      "        test_y_channel: False\n",
      "      ]\n",
      "      niqe:[\n",
      "        type: calculate_niqe\n",
      "        crop_border: 4\n",
      "      ]\n",
      "    ]\n",
      "  ]\n",
      "  logger:[\n",
      "    print_freq: 100\n",
      "    save_checkpoint_freq: 5000.0\n",
      "    use_tb_logger: True\n",
      "    wandb:[\n",
      "      project: None\n",
      "      resume_id: None\n",
      "    ]\n",
      "  ]\n",
      "  dist: False\n",
      "  rank: 0\n",
      "  world_size: 1\n",
      "  auto_resume: False\n",
      "  is_train: True\n",
      "  root_path: /rds/general/user/aem21/home/FYP/compression_indigo_plus/inn\n",
      "\n",
      "2025-04-08 19:18:01,366 INFO: Dataset [FFHQJPEGDataset] - FFHQJPEGTrain is built.\n",
      "2025-04-08 19:18:01,367 INFO: Training statistics:\n",
      "\tNumber of train images: 1600\n",
      "\tDataset enlarge ratio: 1\n",
      "\tBatch size per gpu: 8\n",
      "\tWorld size (gpu number): 1\n",
      "\tRequire iter number per epoch: 200\n",
      "\tTotal epochs: 50; iters: 10000.\n",
      "2025-04-08 19:18:01,373 INFO: Dataset [FFHQJPEGDataset] - FFHQJPEGVal is built.\n",
      "2025-04-08 19:18:01,373 INFO: Number of val images/folders in FFHQJPEGVal: 400\n",
      "2025-04-08 19:18:01,445 INFO: Network [RWNN] is created.\n",
      "2025-04-08 19:18:01,862 INFO: Network: RWNN, with parameters: 488,960\n",
      "2025-04-08 19:18:01,862 INFO: RWNN(\n",
      "  (transform_net): ImageTransform(\n",
      "    (split): LazyWaveletTransform()\n",
      "    (inn): InvertibleNet(\n",
      "      (lifts): ModuleList(\n",
      "        (0-3): 4 x LiftNet(\n",
      "          (p): PredictorNet(\n",
      "            (net): ResNet(\n",
      "              (convin): Conv2d(3, 32, kernel_size=(3, 3), stride=(1, 1), padding=same, bias=False)\n",
      "              (blocks): ModuleList(\n",
      "                (0-1): 2 x ResidualBlock_CRes_kdsr(\n",
      "                  (conv1): Conv2d(32, 32, kernel_size=(3, 3), stride=(1, 1), padding=(1, 1))\n",
      "                  (conv2): Conv2d(32, 32, kernel_size=(3, 3), stride=(1, 1), padding=(1, 1))\n",
      "                  (act): ReLU(inplace=True)\n",
      "                  (fc): Sequential(\n",
      "                    (0): Linear(in_features=128, out_features=64, bias=True)\n",
      "                    (1): ReLU(inplace=True)\n",
      "                    (2): Linear(in_features=64, out_features=32, bias=True)\n",
      "                  )\n",
      "                )\n",
      "              )\n",
      "              (convout): Conv2d(32, 9, kernel_size=(3, 3), stride=(1, 1), padding=same, bias=False)\n",
      "            )\n",
      "          )\n",
      "          (u): UpdaterNet(\n",
      "            (net): ResNet(\n",
      "              (convin): Conv2d(9, 32, kernel_size=(3, 3), stride=(1, 1), padding=same, bias=False)\n",
      "              (blocks): ModuleList(\n",
      "                (0-1): 2 x ResidualBlock_CRes_kdsr(\n",
      "                  (conv1): Conv2d(32, 32, kernel_size=(3, 3), stride=(1, 1), padding=(1, 1))\n",
      "                  (conv2): Conv2d(32, 32, kernel_size=(3, 3), stride=(1, 1), padding=(1, 1))\n",
      "                  (act): ReLU(inplace=True)\n",
      "                  (fc): Sequential(\n",
      "                    (0): Linear(in_features=128, out_features=64, bias=True)\n",
      "                    (1): ReLU(inplace=True)\n",
      "                    (2): Linear(in_features=64, out_features=32, bias=True)\n",
      "                  )\n",
      "                )\n",
      "              )\n",
      "              (convout): Conv2d(32, 3, kernel_size=(3, 3), stride=(1, 1), padding=same, bias=False)\n",
      "            )\n",
      "          )\n",
      "        )\n",
      "      )\n",
      "    )\n",
      "  )\n",
      ")\n",
      "2025-04-08 19:18:01,864 INFO: Loss [MSELoss] is created.\n",
      "2025-04-08 19:18:01,908 INFO: Model [CINNModel] is created.\n",
      "2025-04-08 19:18:02,040 INFO: Start training from epoch: 0, iter: 0\n",
      "2025-04-08 19:19:51,318 INFO: [Basic..][epoch:  0, iter:     100, lr:(2.000e-05,)] [eta: 2:45:04, time (data): 1.093 (0.025)] l_l2: 6.2177e-03 \n",
      "2025-04-08 19:21:34,459 INFO: [Basic..][epoch:  0, iter:     200, lr:(2.000e-05,)] [eta: 2:45:54, time (data): 1.062 (0.021)] l_l2: 3.1915e-03 \n",
      "2025-04-08 19:23:18,397 INFO: [Basic..][epoch:  1, iter:     300, lr:(2.000e-05,)] [eta: 2:45:28, time (data): 1.030 (0.015)] l_l2: 3.9548e-03 \n",
      "2025-04-08 19:25:01,622 INFO: [Basic..][epoch:  1, iter:     400, lr:(2.000e-05,)] [eta: 2:44:06, time (data): 1.031 (0.016)] l_l2: 3.6202e-03 \n",
      "2025-04-08 19:26:45,732 INFO: [Basic..][epoch:  2, iter:     500, lr:(2.000e-05,)] [eta: 2:42:53, time (data): 1.031 (0.016)] l_l2: 2.7838e-03 \n",
      "2025-04-08 19:28:28,985 INFO: [Basic..][epoch:  2, iter:     600, lr:(2.000e-05,)] [eta: 2:41:16, time (data): 1.032 (0.016)] l_l2: 2.4108e-03 \n",
      "2025-04-08 19:30:13,090 INFO: [Basic..][epoch:  3, iter:     700, lr:(2.000e-05,)] [eta: 2:39:48, time (data): 1.032 (0.016)] l_l2: 2.7595e-03 \n",
      "2025-04-08 19:31:57,192 INFO: [Basic..][epoch:  3, iter:     800, lr:(2.000e-05,)] [eta: 2:38:16, time (data): 1.031 (0.016)] l_l2: 2.1041e-03 \n",
      "2025-04-08 19:33:40,959 INFO: [Basic..][epoch:  4, iter:     900, lr:(2.000e-05,)] [eta: 2:36:38, time (data): 1.029 (0.015)] l_l2: 1.9227e-03 \n",
      "2025-04-08 19:35:23,919 INFO: [Basic..][epoch:  4, iter:   1,000, lr:(2.000e-05,)] [eta: 2:34:52, time (data): 1.030 (0.015)] l_l2: 2.1535e-03 \n",
      "2025-04-08 19:37:07,807 INFO: [Basic..][epoch:  5, iter:   1,100, lr:(2.000e-05,)] [eta: 2:33:14, time (data): 1.029 (0.014)] l_l2: 1.5856e-03 \n",
      "2025-04-08 19:38:50,743 INFO: [Basic..][epoch:  5, iter:   1,200, lr:(2.000e-05,)] [eta: 2:31:28, time (data): 1.029 (0.015)] l_l2: 1.7030e-03 \n",
      "2025-04-08 19:40:34,550 INFO: [Basic..][epoch:  6, iter:   1,300, lr:(2.000e-05,)] [eta: 2:29:48, time (data): 1.029 (0.014)] l_l2: 1.7447e-03 \n",
      "2025-04-08 19:42:17,422 INFO: [Basic..][epoch:  6, iter:   1,400, lr:(2.000e-05,)] [eta: 2:28:02, time (data): 1.029 (0.014)] l_l2: 1.7824e-03 \n",
      "2025-04-08 19:44:01,127 INFO: [Basic..][epoch:  7, iter:   1,500, lr:(2.000e-05,)] [eta: 2:26:21, time (data): 1.028 (0.014)] l_l2: 1.9196e-03 \n",
      "2025-04-08 19:45:43,878 INFO: [Basic..][epoch:  7, iter:   1,600, lr:(2.000e-05,)] [eta: 2:24:35, time (data): 1.028 (0.014)] l_l2: 1.7410e-03 \n",
      "2025-04-08 19:47:27,665 INFO: [Basic..][epoch:  8, iter:   1,700, lr:(2.000e-05,)] [eta: 2:22:54, time (data): 1.028 (0.014)] l_l2: 1.4137e-03 \n",
      "2025-04-08 19:49:10,460 INFO: [Basic..][epoch:  8, iter:   1,800, lr:(2.000e-05,)] [eta: 2:21:08, time (data): 1.028 (0.014)] l_l2: 1.5739e-03 \n",
      "2025-04-08 19:50:54,048 INFO: [Basic..][epoch:  9, iter:   1,900, lr:(2.000e-05,)] [eta: 2:19:26, time (data): 1.027 (0.014)] l_l2: 1.5986e-03 \n",
      "2025-04-08 19:52:36,778 INFO: [Basic..][epoch:  9, iter:   2,000, lr:(2.000e-05,)] [eta: 2:17:40, time (data): 1.027 (0.014)] l_l2: 2.1050e-03 \n",
      "2025-04-08 19:54:20,522 INFO: [Basic..][epoch: 10, iter:   2,100, lr:(2.000e-05,)] [eta: 2:15:59, time (data): 1.027 (0.014)] l_l2: 1.4934e-03 \n",
      "2025-04-08 19:56:03,216 INFO: [Basic..][epoch: 10, iter:   2,200, lr:(2.000e-05,)] [eta: 2:14:13, time (data): 1.027 (0.014)] l_l2: 1.7244e-03 \n",
      "2025-04-08 19:57:46,834 INFO: [Basic..][epoch: 11, iter:   2,300, lr:(2.000e-05,)] [eta: 2:12:31, time (data): 1.027 (0.014)] l_l2: 1.5000e-03 \n",
      "2025-04-08 19:59:29,466 INFO: [Basic..][epoch: 11, iter:   2,400, lr:(2.000e-05,)] [eta: 2:10:46, time (data): 1.027 (0.014)] l_l2: 1.4685e-03 \n",
      "2025-04-08 20:01:12,971 INFO: [Basic..][epoch: 12, iter:   2,500, lr:(2.000e-05,)] [eta: 2:09:03, time (data): 1.026 (0.014)] l_l2: 1.4247e-03 \n",
      "2025-04-08 20:02:55,605 INFO: [Basic..][epoch: 12, iter:   2,600, lr:(2.000e-05,)] [eta: 2:07:18, time (data): 1.026 (0.014)] l_l2: 1.7010e-03 \n",
      "2025-04-08 20:04:39,178 INFO: [Basic..][epoch: 13, iter:   2,700, lr:(2.000e-05,)] [eta: 2:05:36, time (data): 1.026 (0.014)] l_l2: 1.8564e-03 \n",
      "2025-04-08 20:06:21,826 INFO: [Basic..][epoch: 13, iter:   2,800, lr:(2.000e-05,)] [eta: 2:03:51, time (data): 1.026 (0.013)] l_l2: 2.0631e-03 \n",
      "2025-04-08 20:08:05,320 INFO: [Basic..][epoch: 14, iter:   2,900, lr:(2.000e-05,)] [eta: 2:02:09, time (data): 1.026 (0.013)] l_l2: 1.7066e-03 \n",
      "2025-04-08 20:09:48,333 INFO: [Basic..][epoch: 14, iter:   3,000, lr:(2.000e-05,)] [eta: 2:00:25, time (data): 1.028 (0.015)] l_l2: 1.5408e-03 \n",
      "2025-04-08 20:11:32,012 INFO: [Basic..][epoch: 15, iter:   3,100, lr:(2.000e-05,)] [eta: 1:58:43, time (data): 1.028 (0.015)] l_l2: 1.6496e-03 \n",
      "2025-04-08 20:13:14,879 INFO: [Basic..][epoch: 15, iter:   3,200, lr:(2.000e-05,)] [eta: 1:56:59, time (data): 1.029 (0.015)] l_l2: 1.7512e-03 \n",
      "2025-04-08 20:14:58,580 INFO: [Basic..][epoch: 16, iter:   3,300, lr:(2.000e-05,)] [eta: 1:55:16, time (data): 1.028 (0.014)] l_l2: 1.3846e-03 \n",
      "2025-04-08 20:16:41,396 INFO: [Basic..][epoch: 16, iter:   3,400, lr:(2.000e-05,)] [eta: 1:53:32, time (data): 1.028 (0.014)] l_l2: 1.4074e-03 \n",
      "2025-04-08 20:18:25,025 INFO: [Basic..][epoch: 17, iter:   3,500, lr:(2.000e-05,)] [eta: 1:51:50, time (data): 1.028 (0.014)] l_l2: 1.7203e-03 \n",
      "2025-04-08 20:20:07,894 INFO: [Basic..][epoch: 17, iter:   3,600, lr:(2.000e-05,)] [eta: 1:50:06, time (data): 1.028 (0.015)] l_l2: 1.4407e-03 \n",
      "2025-04-08 20:21:51,654 INFO: [Basic..][epoch: 18, iter:   3,700, lr:(2.000e-05,)] [eta: 1:48:23, time (data): 1.029 (0.015)] l_l2: 1.8332e-03 \n",
      "2025-04-08 20:23:34,509 INFO: [Basic..][epoch: 18, iter:   3,800, lr:(2.000e-05,)] [eta: 1:46:39, time (data): 1.029 (0.015)] l_l2: 1.5798e-03 \n",
      "2025-04-08 20:25:18,437 INFO: [Basic..][epoch: 19, iter:   3,900, lr:(2.000e-05,)] [eta: 1:44:57, time (data): 1.030 (0.017)] l_l2: 1.5464e-03 \n",
      "2025-04-08 20:27:01,518 INFO: [Basic..][epoch: 19, iter:   4,000, lr:(2.000e-05,)] [eta: 1:43:14, time (data): 1.031 (0.017)] l_l2: 1.4787e-03 \n",
      "2025-04-08 20:28:45,388 INFO: [Basic..][epoch: 20, iter:   4,100, lr:(2.000e-05,)] [eta: 1:41:31, time (data): 1.030 (0.017)] l_l2: 1.3913e-03 \n",
      "2025-04-08 20:30:28,349 INFO: [Basic..][epoch: 20, iter:   4,200, lr:(2.000e-05,)] [eta: 1:39:48, time (data): 1.030 (0.017)] l_l2: 1.6357e-03 \n",
      "2025-04-08 20:32:12,236 INFO: [Basic..][epoch: 21, iter:   4,300, lr:(2.000e-05,)] [eta: 1:38:05, time (data): 1.029 (0.017)] l_l2: 1.3780e-03 \n",
      "2025-04-08 20:33:55,120 INFO: [Basic..][epoch: 21, iter:   4,400, lr:(2.000e-05,)] [eta: 1:36:22, time (data): 1.029 (0.017)] l_l2: 1.2906e-03 \n",
      "2025-04-08 20:35:38,921 INFO: [Basic..][epoch: 22, iter:   4,500, lr:(2.000e-05,)] [eta: 1:34:39, time (data): 1.028 (0.018)] l_l2: 1.5786e-03 \n",
      "2025-04-08 20:37:21,643 INFO: [Basic..][epoch: 22, iter:   4,600, lr:(2.000e-05,)] [eta: 1:32:55, time (data): 1.028 (0.018)] l_l2: 1.7886e-03 \n",
      "2025-04-08 20:39:04,943 INFO: [Basic..][epoch: 23, iter:   4,700, lr:(2.000e-05,)] [eta: 1:31:12, time (data): 1.024 (0.017)] l_l2: 1.6034e-03 \n",
      "2025-04-08 20:40:47,160 INFO: [Basic..][epoch: 23, iter:   4,800, lr:(2.000e-05,)] [eta: 1:29:27, time (data): 1.023 (0.017)] l_l2: 1.5216e-03 \n",
      "2025-04-08 20:42:29,987 INFO: [Basic..][epoch: 24, iter:   4,900, lr:(2.000e-05,)] [eta: 1:27:44, time (data): 1.020 (0.017)] l_l2: 1.3286e-03 \n",
      "2025-04-08 20:44:11,796 INFO: [Basic..][epoch: 24, iter:   5,000, lr:(2.000e-05,)] [eta: 1:25:59, time (data): 1.019 (0.017)] l_l2: 1.7244e-03 \n",
      "2025-04-08 20:44:11,797 INFO: Saving models and training states.\n",
      "2025-04-08 20:45:33,371 INFO: Validation FFHQJPEGVal\n",
      "\t # psnr: 28.0558\tBest: 28.0558 @ 5000 iter\n",
      "\t # niqe: 5.4462\tBest: 5.4462 @ 5000 iter\n",
      "\n",
      "2025-04-08 20:47:15,445 INFO: [Basic..][epoch: 25, iter:   5,100, lr:(2.000e-05,)] [eta: 1:25:33, time (data): 1.013 (0.017)] l_l2: 1.7428e-03 \n",
      "2025-04-08 20:48:56,998 INFO: [Basic..][epoch: 25, iter:   5,200, lr:(2.000e-05,)] [eta: 1:23:45, time (data): 1.014 (0.017)] l_l2: 1.3426e-03 \n",
      "2025-04-08 20:50:39,114 INFO: [Basic..][epoch: 26, iter:   5,300, lr:(2.000e-05,)] [eta: 1:21:58, time (data): 1.013 (0.016)] l_l2: 1.5643e-03 \n",
      "2025-04-08 20:52:20,539 INFO: [Basic..][epoch: 26, iter:   5,400, lr:(2.000e-05,)] [eta: 1:20:11, time (data): 1.014 (0.017)] l_l2: 1.4627e-03 \n",
      "2025-04-08 20:54:02,684 INFO: [Basic..][epoch: 27, iter:   5,500, lr:(2.000e-05,)] [eta: 1:18:24, time (data): 1.014 (0.017)] l_l2: 1.6128e-03 \n",
      "2025-04-08 20:55:44,097 INFO: [Basic..][epoch: 27, iter:   5,600, lr:(2.000e-05,)] [eta: 1:16:37, time (data): 1.014 (0.017)] l_l2: 1.6317e-03 \n",
      "2025-04-08 20:57:26,274 INFO: [Basic..][epoch: 28, iter:   5,700, lr:(2.000e-05,)] [eta: 1:14:51, time (data): 1.014 (0.017)] l_l2: 1.5701e-03 \n",
      "2025-04-08 20:59:07,781 INFO: [Basic..][epoch: 28, iter:   5,800, lr:(2.000e-05,)] [eta: 1:13:04, time (data): 1.015 (0.018)] l_l2: 1.5783e-03 \n",
      "2025-04-08 21:00:49,860 INFO: [Basic..][epoch: 29, iter:   5,900, lr:(2.000e-05,)] [eta: 1:11:18, time (data): 1.014 (0.017)] l_l2: 1.4239e-03 \n",
      "2025-04-08 21:02:31,282 INFO: [Basic..][epoch: 29, iter:   6,000, lr:(2.000e-05,)] [eta: 1:09:32, time (data): 1.014 (0.017)] l_l2: 2.3381e-03 \n",
      "2025-04-08 21:04:13,282 INFO: [Basic..][epoch: 30, iter:   6,100, lr:(2.000e-05,)] [eta: 1:07:46, time (data): 1.014 (0.016)] l_l2: 1.6496e-03 \n",
      "2025-04-08 21:05:54,696 INFO: [Basic..][epoch: 30, iter:   6,200, lr:(2.000e-05,)] [eta: 1:06:00, time (data): 1.014 (0.016)] l_l2: 1.7007e-03 \n",
      "2025-04-08 21:07:36,804 INFO: [Basic..][epoch: 31, iter:   6,300, lr:(2.000e-05,)] [eta: 1:04:14, time (data): 1.014 (0.016)] l_l2: 1.5456e-03 \n",
      "2025-04-08 21:09:18,250 INFO: [Basic..][epoch: 31, iter:   6,400, lr:(2.000e-05,)] [eta: 1:02:29, time (data): 1.014 (0.017)] l_l2: 1.7308e-03 \n",
      "2025-04-08 21:11:00,383 INFO: [Basic..][epoch: 32, iter:   6,500, lr:(2.000e-05,)] [eta: 1:00:43, time (data): 1.014 (0.016)] l_l2: 1.7248e-03 \n",
      "2025-04-08 21:12:41,841 INFO: [Basic..][epoch: 32, iter:   6,600, lr:(2.000e-05,)] [eta: 0:58:58, time (data): 1.014 (0.017)] l_l2: 2.0028e-03 \n",
      "2025-04-08 21:14:24,062 INFO: [Basic..][epoch: 33, iter:   6,700, lr:(2.000e-05,)] [eta: 0:57:13, time (data): 1.014 (0.017)] l_l2: 1.5721e-03 \n",
      "2025-04-08 21:16:05,447 INFO: [Basic..][epoch: 33, iter:   6,800, lr:(2.000e-05,)] [eta: 0:55:27, time (data): 1.014 (0.017)] l_l2: 1.6085e-03 \n",
      "2025-04-08 21:17:47,413 INFO: [Basic..][epoch: 34, iter:   6,900, lr:(2.000e-05,)] [eta: 0:53:43, time (data): 1.013 (0.016)] l_l2: 1.7478e-03 \n",
      "2025-04-08 21:19:28,719 INFO: [Basic..][epoch: 34, iter:   7,000, lr:(2.000e-05,)] [eta: 0:51:57, time (data): 1.013 (0.016)] l_l2: 1.5976e-03 \n",
      "2025-04-08 21:21:10,607 INFO: [Basic..][epoch: 35, iter:   7,100, lr:(2.000e-05,)] [eta: 0:50:13, time (data): 1.013 (0.016)] l_l2: 1.6109e-03 \n",
      "2025-04-08 21:22:51,832 INFO: [Basic..][epoch: 35, iter:   7,200, lr:(2.000e-05,)] [eta: 0:48:28, time (data): 1.012 (0.016)] l_l2: 2.0992e-03 \n",
      "2025-04-08 21:24:33,524 INFO: [Basic..][epoch: 36, iter:   7,300, lr:(2.000e-05,)] [eta: 0:46:43, time (data): 1.012 (0.017)] l_l2: 2.0112e-03 \n",
      "2025-04-08 21:26:14,722 INFO: [Basic..][epoch: 36, iter:   7,400, lr:(2.000e-05,)] [eta: 0:44:58, time (data): 1.012 (0.017)] l_l2: 1.6527e-03 \n",
      "2025-04-08 21:27:56,645 INFO: [Basic..][epoch: 37, iter:   7,500, lr:(2.000e-05,)] [eta: 0:43:14, time (data): 1.011 (0.017)] l_l2: 2.1152e-03 \n",
      "2025-04-08 21:29:37,730 INFO: [Basic..][epoch: 37, iter:   7,600, lr:(2.000e-05,)] [eta: 0:41:29, time (data): 1.011 (0.017)] l_l2: 1.9222e-03 \n",
      "2025-04-08 21:31:19,822 INFO: [Basic..][epoch: 38, iter:   7,700, lr:(2.000e-05,)] [eta: 0:39:45, time (data): 1.011 (0.017)] l_l2: 1.9882e-03 \n",
      "2025-04-08 21:33:00,833 INFO: [Basic..][epoch: 38, iter:   7,800, lr:(2.000e-05,)] [eta: 0:38:00, time (data): 1.010 (0.017)] l_l2: 1.7308e-03 \n",
      "2025-04-08 21:34:42,625 INFO: [Basic..][epoch: 39, iter:   7,900, lr:(2.000e-05,)] [eta: 0:36:16, time (data): 1.010 (0.017)] l_l2: 1.7519e-03 \n",
      "2025-04-08 21:36:23,659 INFO: [Basic..][epoch: 39, iter:   8,000, lr:(2.000e-05,)] [eta: 0:34:32, time (data): 1.010 (0.017)] l_l2: 1.7114e-03 \n",
      "2025-04-08 21:38:05,360 INFO: [Basic..][epoch: 40, iter:   8,100, lr:(2.000e-05,)] [eta: 0:32:47, time (data): 1.009 (0.017)] l_l2: 1.7882e-03 \n",
      "2025-04-08 21:39:46,304 INFO: [Basic..][epoch: 40, iter:   8,200, lr:(2.000e-05,)] [eta: 0:31:03, time (data): 1.009 (0.017)] l_l2: 1.5825e-03 \n",
      "2025-04-08 21:41:28,044 INFO: [Basic..][epoch: 41, iter:   8,300, lr:(2.000e-05,)] [eta: 0:29:19, time (data): 1.009 (0.017)] l_l2: 1.9966e-03 \n",
      "2025-04-08 21:43:09,004 INFO: [Basic..][epoch: 41, iter:   8,400, lr:(2.000e-05,)] [eta: 0:27:35, time (data): 1.009 (0.017)] l_l2: 1.6549e-03 \n",
      "2025-04-08 21:44:50,762 INFO: [Basic..][epoch: 42, iter:   8,500, lr:(2.000e-05,)] [eta: 0:25:51, time (data): 1.009 (0.017)] l_l2: 1.7800e-03 \n",
      "2025-04-08 21:46:31,735 INFO: [Basic..][epoch: 42, iter:   8,600, lr:(2.000e-05,)] [eta: 0:24:07, time (data): 1.010 (0.017)] l_l2: 1.9451e-03 \n",
      "2025-04-08 21:48:13,490 INFO: [Basic..][epoch: 43, iter:   8,700, lr:(2.000e-05,)] [eta: 0:22:24, time (data): 1.009 (0.017)] l_l2: 1.8027e-03 \n",
      "2025-04-08 21:49:54,430 INFO: [Basic..][epoch: 43, iter:   8,800, lr:(2.000e-05,)] [eta: 0:20:40, time (data): 1.009 (0.017)] l_l2: 1.7203e-03 \n",
      "2025-04-08 21:51:36,215 INFO: [Basic..][epoch: 44, iter:   8,900, lr:(2.000e-05,)] [eta: 0:18:56, time (data): 1.009 (0.017)] l_l2: 1.6372e-03 \n",
      "2025-04-08 21:53:17,176 INFO: [Basic..][epoch: 44, iter:   9,000, lr:(2.000e-05,)] [eta: 0:17:12, time (data): 1.009 (0.017)] l_l2: 2.1273e-03 \n",
      "2025-04-08 21:54:59,104 INFO: [Basic..][epoch: 45, iter:   9,100, lr:(2.000e-05,)] [eta: 0:15:29, time (data): 1.012 (0.018)] l_l2: 1.8397e-03 \n",
      "2025-04-08 21:56:40,294 INFO: [Basic..][epoch: 45, iter:   9,200, lr:(2.000e-05,)] [eta: 0:13:45, time (data): 1.012 (0.018)] l_l2: 1.7411e-03 \n",
      "2025-04-08 21:58:21,864 INFO: [Basic..][epoch: 46, iter:   9,300, lr:(2.000e-05,)] [eta: 0:12:02, time (data): 1.009 (0.017)] l_l2: 1.9347e-03 \n",
      "2025-04-08 22:00:02,765 INFO: [Basic..][epoch: 46, iter:   9,400, lr:(2.000e-05,)] [eta: 0:10:18, time (data): 1.009 (0.017)] l_l2: 1.6906e-03 \n",
      "2025-04-08 22:01:44,379 INFO: [Basic..][epoch: 47, iter:   9,500, lr:(2.000e-05,)] [eta: 0:08:35, time (data): 1.009 (0.017)] l_l2: 1.8168e-03 \n",
      "2025-04-08 22:03:25,314 INFO: [Basic..][epoch: 47, iter:   9,600, lr:(2.000e-05,)] [eta: 0:06:52, time (data): 1.009 (0.017)] l_l2: 1.6338e-03 \n",
      "2025-04-08 22:05:06,935 INFO: [Basic..][epoch: 48, iter:   9,700, lr:(2.000e-05,)] [eta: 0:05:08, time (data): 1.009 (0.017)] l_l2: 2.0789e-03 \n",
      "2025-04-08 22:06:47,898 INFO: [Basic..][epoch: 48, iter:   9,800, lr:(2.000e-05,)] [eta: 0:03:25, time (data): 1.009 (0.017)] l_l2: 1.7226e-03 \n",
      "2025-04-08 22:08:29,462 INFO: [Basic..][epoch: 49, iter:   9,900, lr:(2.000e-05,)] [eta: 0:01:42, time (data): 1.009 (0.017)] l_l2: 2.0286e-03 \n",
      "2025-04-08 22:10:10,441 INFO: [Basic..][epoch: 49, iter:  10,000, lr:(2.000e-05,)] [eta: -1 day, 23:59:59, time (data): 1.010 (0.017)] l_l2: 1.6541e-03 \n",
      "2025-04-08 22:10:10,442 INFO: Saving models and training states.\n",
      "2025-04-08 22:11:25,667 INFO: Validation FFHQJPEGVal\n",
      "\t # psnr: 27.5104\tBest: 28.0558 @ 5000 iter\n",
      "\t # niqe: 6.0900\tBest: 6.0900 @ 10000 iter\n",
      "\n",
      "2025-04-08 22:11:26,520 INFO: End of training. Time consumed: 2:53:24\n",
      "2025-04-08 22:11:26,522 INFO: Save the latest model.\n"
     ]
    }
   ],
   "source": [
    "%run inn/train.py -opt inn/options/cinn_option.yaml"
   ]
  },
  {
   "cell_type": "markdown",
   "metadata": {},
   "source": [
    "With the new INN weights, we can run the inference script again and compare results. In this case, our INN is not conditioned on an embedding produced by the kdsr network, so a new sampler has been developed. Furthermore, without conditioning, the model will have bad performance on degradation types that are not JPEG compression. The cell below executes restoration with the jpeg-specific INN on images with a mixture of degradations."
   ]
  },
  {
   "cell_type": "code",
   "execution_count": 1,
   "metadata": {},
   "outputs": [
    {
     "name": "stdout",
     "output_type": "stream",
     "text": [
      "Setting random seed 12345\n"
     ]
    },
    {
     "name": "stderr",
     "output_type": "stream",
     "text": [
      "/rds/general/user/aem21/home/FYP/compression_indigo_plus/sampler.py:87: FutureWarning: You are using `torch.load` with `weights_only=False` (the current default value), which uses the default pickle module implicitly. It is possible to construct malicious pickle data which will execute arbitrary code during unpickling (See https://github.com/pytorch/pytorch/blob/main/SECURITY.md#untrusted-models for more details). In a future release, the default value for `weights_only` will be flipped to `True`. This limits the functions that could be executed during unpickling. Arbitrary objects will no longer be allowed to be loaded via this mode unless they are explicitly allowlisted by the user via `torch.serialization.add_safe_globals`. We recommend you start setting `weights_only=True` for any use case where you don't have full control of the loaded file. Please open an issue on GitHub for any issues related to this experimental feature.\n",
      "  ckpt = torch.load(ckpt_path, map_location=f\"cuda:{self.rank}\")\n"
     ]
    },
    {
     "name": "stdout",
     "output_type": "stream",
     "text": [
      "Loaded Done\n"
     ]
    },
    {
     "name": "stderr",
     "output_type": "stream",
     "text": [
      "/rds/general/user/aem21/home/miniforge3/envs/indigo_v2/lib/python3.12/site-packages/tqdm/auto.py:21: TqdmWarning: IProgress not found. Please update jupyter and ipywidgets. See https://ipywidgets.readthedocs.io/en/stable/user_install.html\n",
      "  from .autonotebook import tqdm as notebook_tqdm\n"
     ]
    },
    {
     "name": "stdout",
     "output_type": "stream",
     "text": [
      "Loading pretrained model LPIPS from /rds/general/user/aem21/home/.cache/torch/hub/pyiqa/LPIPS_v0.1_alex-df73285e.pth\n"
     ]
    },
    {
     "name": "stderr",
     "output_type": "stream",
     "text": [
      "/rds/general/user/aem21/home/miniforge3/envs/indigo_v2/lib/python3.12/site-packages/timm/models/layers/__init__.py:48: FutureWarning: Importing from timm.models.layers is deprecated, please import via timm.layers\n",
      "  warnings.warn(f\"Importing from {__name__} is deprecated, please import via timm.layers\", FutureWarning)\n",
      "/rds/general/user/aem21/home/miniforge3/envs/indigo_v2/lib/python3.12/site-packages/torch/functional.py:534: UserWarning: torch.meshgrid: in an upcoming release, it will be required to pass the indexing argument. (Triggered internally at ../aten/src/ATen/native/TensorShape.cpp:3595.)\n",
      "  return _VF.meshgrid(tensors, **kwargs)  # type: ignore[attr-defined]\n",
      "/rds/general/user/aem21/home/FYP/compression_indigo_plus/sampler.py:87: FutureWarning: You are using `torch.load` with `weights_only=False` (the current default value), which uses the default pickle module implicitly. It is possible to construct malicious pickle data which will execute arbitrary code during unpickling (See https://github.com/pytorch/pytorch/blob/main/SECURITY.md#untrusted-models for more details). In a future release, the default value for `weights_only` will be flipped to `True`. This limits the functions that could be executed during unpickling. Arbitrary objects will no longer be allowed to be loaded via this mode unless they are explicitly allowlisted by the user via `torch.serialization.add_safe_globals`. We recommend you start setting `weights_only=True` for any use case where you don't have full control of the loaded file. Please open an issue on GitHub for any issues related to this experimental feature.\n",
      "  ckpt = torch.load(ckpt_path, map_location=f\"cuda:{self.rank}\")\n"
     ]
    },
    {
     "name": "stdout",
     "output_type": "stream",
     "text": [
      "Loaded Done\n"
     ]
    },
    {
     "name": "stderr",
     "output_type": "stream",
     "text": [
      "/rds/general/user/aem21/home/FYP/compression_indigo_plus/sampler.py:131: FutureWarning: You are using `torch.load` with `weights_only=False` (the current default value), which uses the default pickle module implicitly. It is possible to construct malicious pickle data which will execute arbitrary code during unpickling (See https://github.com/pytorch/pytorch/blob/main/SECURITY.md#untrusted-models for more details). In a future release, the default value for `weights_only` will be flipped to `True`. This limits the functions that could be executed during unpickling. Arbitrary objects will no longer be allowed to be loaded via this mode unless they are explicitly allowlisted by the user via `torch.serialization.add_safe_globals`. We recommend you start setting `weights_only=True` for any use case where you don't have full control of the loaded file. Please open an issue on GitHub for any issues related to this experimental feature.\n",
      "  state_dict= torch.load(\"weights/KDSR/KDSRS-GANV2.pth\")[\"params_ema\"]\n"
     ]
    },
    {
     "name": "stdout",
     "output_type": "stream",
     "text": [
      "Loaded Done\n",
      "Loaded Done\n",
      "Loaded Done\n",
      "Number of testing images: 10\n"
     ]
    },
    {
     "name": "stderr",
     "output_type": "stream",
     "text": [
      " 10%|█         | 1/10 [00:21<03:15, 21.73s/it]"
     ]
    },
    {
     "name": "stdout",
     "output_type": "stream",
     "text": [
      "Runtime: 21.61 seconds\n"
     ]
    },
    {
     "name": "stderr",
     "output_type": "stream",
     "text": [
      " 20%|██        | 2/10 [00:37<02:24, 18.10s/it]"
     ]
    },
    {
     "name": "stdout",
     "output_type": "stream",
     "text": [
      "Runtime: 15.48 seconds\n"
     ]
    },
    {
     "name": "stderr",
     "output_type": "stream",
     "text": [
      " 30%|███       | 3/10 [00:53<02:00, 17.27s/it]"
     ]
    },
    {
     "name": "stdout",
     "output_type": "stream",
     "text": [
      "Runtime: 16.22 seconds\n"
     ]
    },
    {
     "name": "stderr",
     "output_type": "stream",
     "text": [
      " 40%|████      | 4/10 [01:08<01:39, 16.53s/it]"
     ]
    },
    {
     "name": "stdout",
     "output_type": "stream",
     "text": [
      "Runtime: 15.34 seconds\n"
     ]
    },
    {
     "name": "stderr",
     "output_type": "stream",
     "text": [
      " 50%|█████     | 5/10 [01:23<01:19, 15.95s/it]"
     ]
    },
    {
     "name": "stdout",
     "output_type": "stream",
     "text": [
      "Runtime: 14.87 seconds\n"
     ]
    },
    {
     "name": "stderr",
     "output_type": "stream",
     "text": [
      " 60%|██████    | 6/10 [01:39<01:02, 15.72s/it]"
     ]
    },
    {
     "name": "stdout",
     "output_type": "stream",
     "text": [
      "Runtime: 15.24 seconds\n"
     ]
    },
    {
     "name": "stderr",
     "output_type": "stream",
     "text": [
      " 70%|███████   | 7/10 [01:54<00:47, 15.73s/it]"
     ]
    },
    {
     "name": "stdout",
     "output_type": "stream",
     "text": [
      "Runtime: 15.70 seconds\n"
     ]
    },
    {
     "name": "stderr",
     "output_type": "stream",
     "text": [
      " 80%|████████  | 8/10 [02:10<00:31, 15.76s/it]"
     ]
    },
    {
     "name": "stdout",
     "output_type": "stream",
     "text": [
      "Runtime: 15.80 seconds\n"
     ]
    },
    {
     "name": "stderr",
     "output_type": "stream",
     "text": [
      " 90%|█████████ | 9/10 [02:25<00:15, 15.56s/it]"
     ]
    },
    {
     "name": "stdout",
     "output_type": "stream",
     "text": [
      "Runtime: 15.10 seconds\n"
     ]
    },
    {
     "name": "stderr",
     "output_type": "stream",
     "text": [
      "100%|██████████| 10/10 [02:41<00:00, 16.17s/it]"
     ]
    },
    {
     "name": "stdout",
     "output_type": "stream",
     "text": [
      "Runtime: 15.84 seconds\n",
      "Please enjoy the results in results/inn_jpeg10...\n"
     ]
    },
    {
     "name": "stderr",
     "output_type": "stream",
     "text": [
      "\n"
     ]
    }
   ],
   "source": [
    "%run inference_compression.py \\\n",
    "    -i testdata/lr_medium -o results/inn_jpeg10 --task restoration \\\n",
    "    --eta 0.5 --aligned  --use_fp16 \\\n",
    "    --config_indigo configs/sample/indigo_syn_jpeg.yaml"
   ]
  },
  {
   "cell_type": "code",
   "execution_count": 1,
   "metadata": {},
   "outputs": [
    {
     "name": "stdout",
     "output_type": "stream",
     "text": [
      "original size = (1024, 1024, 3)\n"
     ]
    },
    {
     "ename": "ValueError",
     "evalue": "not enough values to unpack (expected 2, got 1)",
     "output_type": "error",
     "traceback": [
      "\u001b[0;31m---------------------------------------------------------------------------\u001b[0m",
      "\u001b[0;31mValueError\u001b[0m                                Traceback (most recent call last)",
      "File \u001b[0;32m~/FYP/compression_indigo_plus/inn/prep_test.py:37\u001b[0m\n\u001b[1;32m     27\u001b[0m test_loader \u001b[38;5;241m=\u001b[39m build_dataloader(\n\u001b[1;32m     28\u001b[0m             test_set,\n\u001b[1;32m     29\u001b[0m             dataset_opt,\n\u001b[0;32m   (...)\u001b[0m\n\u001b[1;32m     32\u001b[0m             sampler\u001b[38;5;241m=\u001b[39m\u001b[38;5;28;01mNone\u001b[39;00m,\n\u001b[1;32m     33\u001b[0m             seed\u001b[38;5;241m=\u001b[39m\u001b[38;5;241m0\u001b[39m)\n\u001b[1;32m     35\u001b[0m test_dir \u001b[38;5;241m=\u001b[39m \u001b[38;5;124mf\u001b[39m\u001b[38;5;124m'\u001b[39m\u001b[38;5;124mtestdata/jpeg_qf\u001b[39m\u001b[38;5;132;01m{\u001b[39;00mqf\u001b[38;5;132;01m}\u001b[39;00m\u001b[38;5;124m/\u001b[39m\u001b[38;5;124m'\u001b[39m\n\u001b[0;32m---> 37\u001b[0m \u001b[43m\u001b[49m\u001b[38;5;28;43;01mfor\u001b[39;49;00m\u001b[43m \u001b[49m\u001b[43midx\u001b[49m\u001b[43m,\u001b[49m\u001b[43m \u001b[49m\u001b[43mval_data\u001b[49m\u001b[43m \u001b[49m\u001b[38;5;129;43;01min\u001b[39;49;00m\u001b[43m \u001b[49m\u001b[38;5;28;43menumerate\u001b[39;49m\u001b[43m(\u001b[49m\u001b[43mtest_loader\u001b[49m\u001b[43m)\u001b[49m\u001b[43m:\u001b[49m\n\u001b[1;32m     38\u001b[0m \u001b[43m    \u001b[49m\u001b[43mimg_name\u001b[49m\u001b[43m \u001b[49m\u001b[38;5;241;43m=\u001b[39;49m\u001b[43m \u001b[49m\u001b[43mosp\u001b[49m\u001b[38;5;241;43m.\u001b[39;49m\u001b[43msplitext\u001b[49m\u001b[43m(\u001b[49m\u001b[43mosp\u001b[49m\u001b[38;5;241;43m.\u001b[39;49m\u001b[43mbasename\u001b[49m\u001b[43m(\u001b[49m\u001b[43mval_data\u001b[49m\u001b[43m[\u001b[49m\u001b[38;5;124;43m'\u001b[39;49m\u001b[38;5;124;43mlq_path\u001b[39;49m\u001b[38;5;124;43m'\u001b[39;49m\u001b[43m]\u001b[49m\u001b[43m[\u001b[49m\u001b[38;5;241;43m0\u001b[39;49m\u001b[43m]\u001b[49m\u001b[43m)\u001b[49m\u001b[43m)\u001b[49m\u001b[43m[\u001b[49m\u001b[38;5;241;43m0\u001b[39;49m\u001b[43m]\u001b[49m\n\u001b[1;32m     39\u001b[0m \u001b[43m    \u001b[49m\u001b[43mimg_hq\u001b[49m\u001b[43m \u001b[49m\u001b[38;5;241;43m=\u001b[39;49m\u001b[43m \u001b[49m\u001b[43mtensor2img\u001b[49m\u001b[43m(\u001b[49m\u001b[43m[\u001b[49m\u001b[43mval_data\u001b[49m\u001b[43m[\u001b[49m\u001b[38;5;124;43m'\u001b[39;49m\u001b[38;5;124;43mgt\u001b[39;49m\u001b[38;5;124;43m'\u001b[39;49m\u001b[43m]\u001b[49m\u001b[43m]\u001b[49m\u001b[43m)\u001b[49m\u001b[43m[\u001b[49m\u001b[38;5;241;43m0\u001b[39;49m\u001b[43m]\u001b[49m\n",
      "File \u001b[0;32m~/miniforge3/envs/indigo_v2/lib/python3.12/site-packages/torch/utils/data/dataloader.py:701\u001b[0m, in \u001b[0;36m_BaseDataLoaderIter.__next__\u001b[0;34m(self)\u001b[0m\n\u001b[1;32m    698\u001b[0m \u001b[38;5;28;01mif\u001b[39;00m \u001b[38;5;28mself\u001b[39m\u001b[38;5;241m.\u001b[39m_sampler_iter \u001b[38;5;129;01mis\u001b[39;00m \u001b[38;5;28;01mNone\u001b[39;00m:\n\u001b[1;32m    699\u001b[0m     \u001b[38;5;66;03m# TODO(https://github.com/pytorch/pytorch/issues/76750)\u001b[39;00m\n\u001b[1;32m    700\u001b[0m     \u001b[38;5;28mself\u001b[39m\u001b[38;5;241m.\u001b[39m_reset()  \u001b[38;5;66;03m# type: ignore[call-arg]\u001b[39;00m\n\u001b[0;32m--> 701\u001b[0m data \u001b[38;5;241m=\u001b[39m \u001b[38;5;28;43mself\u001b[39;49m\u001b[38;5;241;43m.\u001b[39;49m\u001b[43m_next_data\u001b[49m\u001b[43m(\u001b[49m\u001b[43m)\u001b[49m\n\u001b[1;32m    702\u001b[0m \u001b[38;5;28mself\u001b[39m\u001b[38;5;241m.\u001b[39m_num_yielded \u001b[38;5;241m+\u001b[39m\u001b[38;5;241m=\u001b[39m \u001b[38;5;241m1\u001b[39m\n\u001b[1;32m    703\u001b[0m \u001b[38;5;28;01mif\u001b[39;00m (\n\u001b[1;32m    704\u001b[0m     \u001b[38;5;28mself\u001b[39m\u001b[38;5;241m.\u001b[39m_dataset_kind \u001b[38;5;241m==\u001b[39m _DatasetKind\u001b[38;5;241m.\u001b[39mIterable\n\u001b[1;32m    705\u001b[0m     \u001b[38;5;129;01mand\u001b[39;00m \u001b[38;5;28mself\u001b[39m\u001b[38;5;241m.\u001b[39m_IterableDataset_len_called \u001b[38;5;129;01mis\u001b[39;00m \u001b[38;5;129;01mnot\u001b[39;00m \u001b[38;5;28;01mNone\u001b[39;00m\n\u001b[1;32m    706\u001b[0m     \u001b[38;5;129;01mand\u001b[39;00m \u001b[38;5;28mself\u001b[39m\u001b[38;5;241m.\u001b[39m_num_yielded \u001b[38;5;241m>\u001b[39m \u001b[38;5;28mself\u001b[39m\u001b[38;5;241m.\u001b[39m_IterableDataset_len_called\n\u001b[1;32m    707\u001b[0m ):\n",
      "File \u001b[0;32m~/miniforge3/envs/indigo_v2/lib/python3.12/site-packages/torch/utils/data/dataloader.py:757\u001b[0m, in \u001b[0;36m_SingleProcessDataLoaderIter._next_data\u001b[0;34m(self)\u001b[0m\n\u001b[1;32m    755\u001b[0m \u001b[38;5;28;01mdef\u001b[39;00m\u001b[38;5;250m \u001b[39m\u001b[38;5;21m_next_data\u001b[39m(\u001b[38;5;28mself\u001b[39m):\n\u001b[1;32m    756\u001b[0m     index \u001b[38;5;241m=\u001b[39m \u001b[38;5;28mself\u001b[39m\u001b[38;5;241m.\u001b[39m_next_index()  \u001b[38;5;66;03m# may raise StopIteration\u001b[39;00m\n\u001b[0;32m--> 757\u001b[0m     data \u001b[38;5;241m=\u001b[39m \u001b[38;5;28;43mself\u001b[39;49m\u001b[38;5;241;43m.\u001b[39;49m\u001b[43m_dataset_fetcher\u001b[49m\u001b[38;5;241;43m.\u001b[39;49m\u001b[43mfetch\u001b[49m\u001b[43m(\u001b[49m\u001b[43mindex\u001b[49m\u001b[43m)\u001b[49m  \u001b[38;5;66;03m# may raise StopIteration\u001b[39;00m\n\u001b[1;32m    758\u001b[0m     \u001b[38;5;28;01mif\u001b[39;00m \u001b[38;5;28mself\u001b[39m\u001b[38;5;241m.\u001b[39m_pin_memory:\n\u001b[1;32m    759\u001b[0m         data \u001b[38;5;241m=\u001b[39m _utils\u001b[38;5;241m.\u001b[39mpin_memory\u001b[38;5;241m.\u001b[39mpin_memory(data, \u001b[38;5;28mself\u001b[39m\u001b[38;5;241m.\u001b[39m_pin_memory_device)\n",
      "File \u001b[0;32m~/miniforge3/envs/indigo_v2/lib/python3.12/site-packages/torch/utils/data/_utils/fetch.py:52\u001b[0m, in \u001b[0;36m_MapDatasetFetcher.fetch\u001b[0;34m(self, possibly_batched_index)\u001b[0m\n\u001b[1;32m     50\u001b[0m         data \u001b[38;5;241m=\u001b[39m \u001b[38;5;28mself\u001b[39m\u001b[38;5;241m.\u001b[39mdataset\u001b[38;5;241m.\u001b[39m__getitems__(possibly_batched_index)\n\u001b[1;32m     51\u001b[0m     \u001b[38;5;28;01melse\u001b[39;00m:\n\u001b[0;32m---> 52\u001b[0m         data \u001b[38;5;241m=\u001b[39m [\u001b[38;5;28;43mself\u001b[39;49m\u001b[38;5;241;43m.\u001b[39;49m\u001b[43mdataset\u001b[49m\u001b[43m[\u001b[49m\u001b[43midx\u001b[49m\u001b[43m]\u001b[49m \u001b[38;5;28;01mfor\u001b[39;00m idx \u001b[38;5;129;01min\u001b[39;00m possibly_batched_index]\n\u001b[1;32m     53\u001b[0m \u001b[38;5;28;01melse\u001b[39;00m:\n\u001b[1;32m     54\u001b[0m     data \u001b[38;5;241m=\u001b[39m \u001b[38;5;28mself\u001b[39m\u001b[38;5;241m.\u001b[39mdataset[possibly_batched_index]\n",
      "File \u001b[0;32m~/FYP/compression_indigo_plus/inn/data/ffhq_jpeg_dataset.py:64\u001b[0m, in \u001b[0;36mFFHQJPEGDataset.__getitem__\u001b[0;34m(self, index)\u001b[0m\n\u001b[1;32m     60\u001b[0m \u001b[38;5;28mprint\u001b[39m(\u001b[38;5;124mf\u001b[39m\u001b[38;5;124m\"\u001b[39m\u001b[38;5;124moriginal size = \u001b[39m\u001b[38;5;132;01m{\u001b[39;00mimg_gt\u001b[38;5;241m.\u001b[39mshape\u001b[38;5;132;01m}\u001b[39;00m\u001b[38;5;124m\"\u001b[39m)\n\u001b[1;32m     63\u001b[0m \u001b[38;5;66;03m# Adjusting gt size\u001b[39;00m\n\u001b[0;32m---> 64\u001b[0m h_old,w_old \u001b[38;5;241m=\u001b[39m img_gt\u001b[38;5;241m.\u001b[39mshape[\u001b[38;5;241m0\u001b[39m:\u001b[38;5;241m1\u001b[39m] \n\u001b[1;32m     65\u001b[0m \u001b[38;5;28;01mif\u001b[39;00m \u001b[38;5;129;01mnot\u001b[39;00m (h_old \u001b[38;5;241m==\u001b[39m gt_size \u001b[38;5;129;01mand\u001b[39;00m w_old \u001b[38;5;241m==\u001b[39m gt_size):\n\u001b[1;32m     66\u001b[0m     img_gt \u001b[38;5;241m=\u001b[39m cv2\u001b[38;5;241m.\u001b[39mresize(img_gt, (gt_size,) \u001b[38;5;241m*\u001b[39m \u001b[38;5;241m2\u001b[39m, interpolation\u001b[38;5;241m=\u001b[39mcv2\u001b[38;5;241m.\u001b[39mINTER_CUBIC)\n",
      "\u001b[0;31mValueError\u001b[0m: not enough values to unpack (expected 2, got 1)"
     ]
    }
   ],
   "source": [
    "%run inn/prep_test.py"
   ]
  },
  {
   "cell_type": "code",
   "execution_count": 1,
   "metadata": {},
   "outputs": [
    {
     "name": "stdout",
     "output_type": "stream",
     "text": [
      "Setting random seed 12345\n"
     ]
    },
    {
     "name": "stderr",
     "output_type": "stream",
     "text": [
      "/rds/general/user/aem21/home/FYP/compression_indigo_plus/sampler.py:87: FutureWarning: You are using `torch.load` with `weights_only=False` (the current default value), which uses the default pickle module implicitly. It is possible to construct malicious pickle data which will execute arbitrary code during unpickling (See https://github.com/pytorch/pytorch/blob/main/SECURITY.md#untrusted-models for more details). In a future release, the default value for `weights_only` will be flipped to `True`. This limits the functions that could be executed during unpickling. Arbitrary objects will no longer be allowed to be loaded via this mode unless they are explicitly allowlisted by the user via `torch.serialization.add_safe_globals`. We recommend you start setting `weights_only=True` for any use case where you don't have full control of the loaded file. Please open an issue on GitHub for any issues related to this experimental feature.\n",
      "  ckpt = torch.load(ckpt_path, map_location=f\"cuda:{self.rank}\")\n"
     ]
    },
    {
     "name": "stdout",
     "output_type": "stream",
     "text": [
      "Loaded Done\n"
     ]
    },
    {
     "name": "stderr",
     "output_type": "stream",
     "text": [
      "/rds/general/user/aem21/home/miniforge3/envs/indigo_v2/lib/python3.12/site-packages/tqdm/auto.py:21: TqdmWarning: IProgress not found. Please update jupyter and ipywidgets. See https://ipywidgets.readthedocs.io/en/stable/user_install.html\n",
      "  from .autonotebook import tqdm as notebook_tqdm\n"
     ]
    },
    {
     "name": "stdout",
     "output_type": "stream",
     "text": [
      "Loading pretrained model LPIPS from /rds/general/user/aem21/home/.cache/torch/hub/pyiqa/LPIPS_v0.1_alex-df73285e.pth\n"
     ]
    },
    {
     "name": "stderr",
     "output_type": "stream",
     "text": [
      "/rds/general/user/aem21/home/miniforge3/envs/indigo_v2/lib/python3.12/site-packages/timm/models/layers/__init__.py:48: FutureWarning: Importing from timm.models.layers is deprecated, please import via timm.layers\n",
      "  warnings.warn(f\"Importing from {__name__} is deprecated, please import via timm.layers\", FutureWarning)\n",
      "/rds/general/user/aem21/home/miniforge3/envs/indigo_v2/lib/python3.12/site-packages/torch/functional.py:534: UserWarning: torch.meshgrid: in an upcoming release, it will be required to pass the indexing argument. (Triggered internally at ../aten/src/ATen/native/TensorShape.cpp:3595.)\n",
      "  return _VF.meshgrid(tensors, **kwargs)  # type: ignore[attr-defined]\n",
      "/rds/general/user/aem21/home/FYP/compression_indigo_plus/sampler.py:87: FutureWarning: You are using `torch.load` with `weights_only=False` (the current default value), which uses the default pickle module implicitly. It is possible to construct malicious pickle data which will execute arbitrary code during unpickling (See https://github.com/pytorch/pytorch/blob/main/SECURITY.md#untrusted-models for more details). In a future release, the default value for `weights_only` will be flipped to `True`. This limits the functions that could be executed during unpickling. Arbitrary objects will no longer be allowed to be loaded via this mode unless they are explicitly allowlisted by the user via `torch.serialization.add_safe_globals`. We recommend you start setting `weights_only=True` for any use case where you don't have full control of the loaded file. Please open an issue on GitHub for any issues related to this experimental feature.\n",
      "  ckpt = torch.load(ckpt_path, map_location=f\"cuda:{self.rank}\")\n"
     ]
    },
    {
     "name": "stdout",
     "output_type": "stream",
     "text": [
      "Loaded Done\n"
     ]
    },
    {
     "name": "stderr",
     "output_type": "stream",
     "text": [
      "/rds/general/user/aem21/home/FYP/compression_indigo_plus/sampler.py:131: FutureWarning: You are using `torch.load` with `weights_only=False` (the current default value), which uses the default pickle module implicitly. It is possible to construct malicious pickle data which will execute arbitrary code during unpickling (See https://github.com/pytorch/pytorch/blob/main/SECURITY.md#untrusted-models for more details). In a future release, the default value for `weights_only` will be flipped to `True`. This limits the functions that could be executed during unpickling. Arbitrary objects will no longer be allowed to be loaded via this mode unless they are explicitly allowlisted by the user via `torch.serialization.add_safe_globals`. We recommend you start setting `weights_only=True` for any use case where you don't have full control of the loaded file. Please open an issue on GitHub for any issues related to this experimental feature.\n",
      "  state_dict= torch.load(\"weights/KDSR/KDSRS-GANV2.pth\")[\"params_ema\"]\n"
     ]
    },
    {
     "name": "stdout",
     "output_type": "stream",
     "text": [
      "Loaded Done\n",
      "Number of testing images: 10\n"
     ]
    },
    {
     "name": "stderr",
     "output_type": "stream",
     "text": [
      " 10%|█         | 1/10 [00:19<02:56, 19.64s/it]"
     ]
    },
    {
     "name": "stdout",
     "output_type": "stream",
     "text": [
      "Runtime: 19.47 seconds\n"
     ]
    },
    {
     "name": "stderr",
     "output_type": "stream",
     "text": [
      " 20%|██        | 2/10 [00:33<02:12, 16.52s/it]"
     ]
    },
    {
     "name": "stdout",
     "output_type": "stream",
     "text": [
      "Runtime: 14.29 seconds\n"
     ]
    },
    {
     "name": "stderr",
     "output_type": "stream",
     "text": [
      " 30%|███       | 3/10 [00:48<01:49, 15.60s/it]"
     ]
    },
    {
     "name": "stdout",
     "output_type": "stream",
     "text": [
      "Runtime: 14.45 seconds\n"
     ]
    },
    {
     "name": "stderr",
     "output_type": "stream",
     "text": [
      " 40%|████      | 4/10 [01:03<01:31, 15.20s/it]"
     ]
    },
    {
     "name": "stdout",
     "output_type": "stream",
     "text": [
      "Runtime: 14.56 seconds\n"
     ]
    },
    {
     "name": "stderr",
     "output_type": "stream",
     "text": [
      " 50%|█████     | 5/10 [01:17<01:14, 14.96s/it]"
     ]
    },
    {
     "name": "stdout",
     "output_type": "stream",
     "text": [
      "Runtime: 14.49 seconds\n"
     ]
    },
    {
     "name": "stderr",
     "output_type": "stream",
     "text": [
      " 60%|██████    | 6/10 [01:32<00:59, 14.82s/it]"
     ]
    },
    {
     "name": "stdout",
     "output_type": "stream",
     "text": [
      "Runtime: 14.49 seconds\n"
     ]
    },
    {
     "name": "stderr",
     "output_type": "stream",
     "text": [
      " 70%|███████   | 7/10 [01:46<00:44, 14.75s/it]"
     ]
    },
    {
     "name": "stdout",
     "output_type": "stream",
     "text": [
      "Runtime: 14.59 seconds\n"
     ]
    },
    {
     "name": "stderr",
     "output_type": "stream",
     "text": [
      " 80%|████████  | 8/10 [02:01<00:29, 14.75s/it]"
     ]
    },
    {
     "name": "stdout",
     "output_type": "stream",
     "text": [
      "Runtime: 14.70 seconds\n"
     ]
    },
    {
     "name": "stderr",
     "output_type": "stream",
     "text": [
      " 90%|█████████ | 9/10 [02:16<00:14, 14.72s/it]"
     ]
    },
    {
     "name": "stdout",
     "output_type": "stream",
     "text": [
      "Runtime: 14.62 seconds\n"
     ]
    },
    {
     "name": "stderr",
     "output_type": "stream",
     "text": [
      "100%|██████████| 10/10 [02:30<00:00, 15.07s/it]"
     ]
    },
    {
     "name": "stdout",
     "output_type": "stream",
     "text": [
      "Runtime: 14.47 seconds\n",
      "Please enjoy the results in results/pretrained_compression...\n",
      "Setting random seed 12345\n"
     ]
    },
    {
     "name": "stderr",
     "output_type": "stream",
     "text": [
      "\n"
     ]
    },
    {
     "name": "stdout",
     "output_type": "stream",
     "text": [
      "Loaded Done\n",
      "Loaded Done\n",
      "Loaded Done\n",
      "Loaded Done\n",
      "Loaded Done\n",
      "Number of testing images: 10\n"
     ]
    },
    {
     "name": "stderr",
     "output_type": "stream",
     "text": [
      " 10%|█         | 1/10 [00:14<02:11, 14.63s/it]"
     ]
    },
    {
     "name": "stdout",
     "output_type": "stream",
     "text": [
      "Runtime: 14.59 seconds\n"
     ]
    },
    {
     "name": "stderr",
     "output_type": "stream",
     "text": [
      " 20%|██        | 2/10 [00:29<01:56, 14.57s/it]"
     ]
    },
    {
     "name": "stdout",
     "output_type": "stream",
     "text": [
      "Runtime: 14.49 seconds\n"
     ]
    },
    {
     "name": "stderr",
     "output_type": "stream",
     "text": [
      " 30%|███       | 3/10 [00:43<01:41, 14.55s/it]"
     ]
    },
    {
     "name": "stdout",
     "output_type": "stream",
     "text": [
      "Runtime: 14.48 seconds\n"
     ]
    },
    {
     "name": "stderr",
     "output_type": "stream",
     "text": [
      " 40%|████      | 4/10 [00:58<01:27, 14.65s/it]"
     ]
    },
    {
     "name": "stdout",
     "output_type": "stream",
     "text": [
      "Runtime: 14.77 seconds\n"
     ]
    },
    {
     "name": "stderr",
     "output_type": "stream",
     "text": [
      " 50%|█████     | 5/10 [01:13<01:13, 14.71s/it]"
     ]
    },
    {
     "name": "stdout",
     "output_type": "stream",
     "text": [
      "Runtime: 14.76 seconds\n"
     ]
    },
    {
     "name": "stderr",
     "output_type": "stream",
     "text": [
      " 60%|██████    | 6/10 [01:27<00:58, 14.70s/it]"
     ]
    },
    {
     "name": "stdout",
     "output_type": "stream",
     "text": [
      "Runtime: 14.63 seconds\n"
     ]
    },
    {
     "name": "stderr",
     "output_type": "stream",
     "text": [
      " 70%|███████   | 7/10 [01:42<00:44, 14.78s/it]"
     ]
    },
    {
     "name": "stdout",
     "output_type": "stream",
     "text": [
      "Runtime: 14.91 seconds\n"
     ]
    },
    {
     "name": "stderr",
     "output_type": "stream",
     "text": [
      " 80%|████████  | 8/10 [01:57<00:29, 14.75s/it]"
     ]
    },
    {
     "name": "stdout",
     "output_type": "stream",
     "text": [
      "Runtime: 14.62 seconds\n"
     ]
    },
    {
     "name": "stderr",
     "output_type": "stream",
     "text": [
      " 90%|█████████ | 9/10 [02:12<00:14, 14.73s/it]"
     ]
    },
    {
     "name": "stdout",
     "output_type": "stream",
     "text": [
      "Runtime: 14.64 seconds\n"
     ]
    },
    {
     "name": "stderr",
     "output_type": "stream",
     "text": [
      "100%|██████████| 10/10 [02:27<00:00, 14.72s/it]"
     ]
    },
    {
     "name": "stdout",
     "output_type": "stream",
     "text": [
      "Runtime: 14.86 seconds\n",
      "Please enjoy the results in results/inn_jpeg10_compression...\n"
     ]
    },
    {
     "name": "stderr",
     "output_type": "stream",
     "text": [
      "\n"
     ]
    }
   ],
   "source": [
    "%run inference.py \\\n",
    "    -i testdata/jpeg10 -o results/pretrained_compression --task restoration \\\n",
    "    --eta 0.5 --aligned  --use_fp16 \\\n",
    "    --config_indigo configs/sample/indigo_syn_jpeg.yaml\n",
    "\n",
    "%run inference_compression.py \\\n",
    "    -i testdata/jpeg10 -o results/inn_jpeg10_compression --task restoration \\\n",
    "    --eta 0.5 --aligned  --use_fp16 \\\n",
    "    --config_indigo configs/sample/indigo_syn_jpeg.yaml"
   ]
  },
  {
   "cell_type": "markdown",
   "metadata": {},
   "source": [
    "### Fixing Image Input Size"
   ]
  },
  {
   "cell_type": "markdown",
   "metadata": {},
   "source": [
    "INDIGO only accepts images of size 128x128"
   ]
  },
  {
   "cell_type": "code",
   "execution_count": 13,
   "metadata": {},
   "outputs": [],
   "source": [
    "import cv2\n",
    "import os\n",
    "import torch\n",
    "from torch.utils import data as data\n",
    "from torchvision.transforms.functional import normalize\n",
    "\n",
    "from basicsr.data.degradations import add_jpg_compression\n",
    "from basicsr.data.transforms import augment, mod_crop, paired_random_crop\n",
    "from basicsr.utils import FileClient, imfrombytes, img2tensor, scandir\n",
    "\n",
    "gt_folder = 'datasets/ffhq/test'\n",
    "out_folder = 'testdata/jpeg_10_512'\n",
    "paths = [os.path.join(gt_folder, v) for v in list(scandir(gt_folder))]\n",
    "\n",
    "file_client = FileClient('disk')\n",
    "\n",
    "gt_size = 512\n",
    "\n",
    "for gt_path in paths:\n",
    "    # Load gt images. Dimension order: HWC; channel order: BGR;\n",
    "    # image range: [0, 1], float32.\n",
    "    img_bytes = file_client.get(gt_path, 'gt')\n",
    "    img_gt = imfrombytes(img_bytes, float32=True)\n",
    "    img_gt = mod_crop(img_gt, scale)\n",
    "\n",
    "    # generate lq image\n",
    "    # downsample\n",
    "    img_lq = cv2.resize(img_gt, (gt_size,)*2, interpolation=cv2.INTER_CUBIC)\n",
    "    # add JPEG compression\n",
    "    img_lq = add_jpg_compression(img_lq, quality=10)\n",
    "\n",
    "    # BGR to RGB, HWC to CHW, numpy to tensor\n",
    "    img_gt, img_lq = img2tensor([img_gt, img_lq], bgr2rgb=True, float32=True)\n",
    "    img_lq = torch.clamp((img_lq * 255.0).round(), 0, 255) / 255.\n",
    "    \n",
    "    img_name = osp.splitext(osp.basename(gt_path))[0]\n",
    "    img_lq = tensor2img(img_lq)[0]\n",
    "    save_img_path = osp.join(out_folder, f'{img_name}.png')\n",
    "    imwrite(img_lq, save_img_path)"
   ]
  },
  {
   "cell_type": "markdown",
   "metadata": {},
   "source": [
    "Now, we would like to input 512x512 images into the inference script."
   ]
  },
  {
   "cell_type": "code",
   "execution_count": 2,
   "metadata": {},
   "outputs": [
    {
     "name": "stdout",
     "output_type": "stream",
     "text": [
      "Setting random seed 12345\n",
      "Loaded Done\n",
      "Loaded Done\n",
      "Loaded Done\n",
      "Loaded Done\n",
      "Loaded Done\n",
      "Number of testing images: 100\n"
     ]
    },
    {
     "name": "stderr",
     "output_type": "stream",
     "text": [
      "  1%|          | 1/100 [00:14<24:03, 14.58s/it]"
     ]
    },
    {
     "name": "stdout",
     "output_type": "stream",
     "text": [
      "Runtime: 14.53 seconds\n"
     ]
    },
    {
     "name": "stderr",
     "output_type": "stream",
     "text": [
      "  2%|▏         | 2/100 [00:29<23:49, 14.59s/it]"
     ]
    },
    {
     "name": "stdout",
     "output_type": "stream",
     "text": [
      "Runtime: 14.55 seconds\n"
     ]
    },
    {
     "name": "stderr",
     "output_type": "stream",
     "text": [
      "  3%|▎         | 3/100 [00:43<23:39, 14.63s/it]"
     ]
    },
    {
     "name": "stdout",
     "output_type": "stream",
     "text": [
      "Runtime: 14.63 seconds\n"
     ]
    },
    {
     "name": "stderr",
     "output_type": "stream",
     "text": [
      "  4%|▍         | 4/100 [00:58<23:26, 14.65s/it]"
     ]
    },
    {
     "name": "stdout",
     "output_type": "stream",
     "text": [
      "Runtime: 14.64 seconds\n"
     ]
    },
    {
     "name": "stderr",
     "output_type": "stream",
     "text": [
      "  5%|▌         | 5/100 [01:13<23:19, 14.73s/it]"
     ]
    },
    {
     "name": "stdout",
     "output_type": "stream",
     "text": [
      "Runtime: 14.83 seconds\n"
     ]
    },
    {
     "name": "stderr",
     "output_type": "stream",
     "text": [
      "  6%|▌         | 6/100 [01:28<23:04, 14.73s/it]"
     ]
    },
    {
     "name": "stdout",
     "output_type": "stream",
     "text": [
      "Runtime: 14.68 seconds\n"
     ]
    },
    {
     "name": "stderr",
     "output_type": "stream",
     "text": [
      "  7%|▋         | 7/100 [01:42<22:49, 14.73s/it]"
     ]
    },
    {
     "name": "stdout",
     "output_type": "stream",
     "text": [
      "Runtime: 14.67 seconds\n"
     ]
    },
    {
     "name": "stderr",
     "output_type": "stream",
     "text": [
      "  8%|▊         | 8/100 [01:57<22:34, 14.72s/it]"
     ]
    },
    {
     "name": "stdout",
     "output_type": "stream",
     "text": [
      "Runtime: 14.68 seconds\n"
     ]
    },
    {
     "name": "stderr",
     "output_type": "stream",
     "text": [
      "  9%|▉         | 9/100 [02:12<22:20, 14.73s/it]"
     ]
    },
    {
     "name": "stdout",
     "output_type": "stream",
     "text": [
      "Runtime: 14.69 seconds\n"
     ]
    },
    {
     "name": "stderr",
     "output_type": "stream",
     "text": [
      " 10%|█         | 10/100 [02:27<22:06, 14.74s/it]"
     ]
    },
    {
     "name": "stdout",
     "output_type": "stream",
     "text": [
      "Runtime: 14.72 seconds\n"
     ]
    },
    {
     "name": "stderr",
     "output_type": "stream",
     "text": [
      " 11%|█         | 11/100 [02:41<21:51, 14.73s/it]"
     ]
    },
    {
     "name": "stdout",
     "output_type": "stream",
     "text": [
      "Runtime: 14.68 seconds\n"
     ]
    },
    {
     "name": "stderr",
     "output_type": "stream",
     "text": [
      " 12%|█▏        | 12/100 [02:56<21:36, 14.73s/it]"
     ]
    },
    {
     "name": "stdout",
     "output_type": "stream",
     "text": [
      "Runtime: 14.68 seconds\n"
     ]
    },
    {
     "name": "stderr",
     "output_type": "stream",
     "text": [
      " 13%|█▎        | 13/100 [03:11<21:21, 14.73s/it]"
     ]
    },
    {
     "name": "stdout",
     "output_type": "stream",
     "text": [
      "Runtime: 14.69 seconds\n"
     ]
    },
    {
     "name": "stderr",
     "output_type": "stream",
     "text": [
      " 14%|█▍        | 14/100 [03:26<21:07, 14.74s/it]"
     ]
    },
    {
     "name": "stdout",
     "output_type": "stream",
     "text": [
      "Runtime: 14.73 seconds\n"
     ]
    },
    {
     "name": "stderr",
     "output_type": "stream",
     "text": [
      " 15%|█▌        | 15/100 [03:40<20:53, 14.74s/it]"
     ]
    },
    {
     "name": "stdout",
     "output_type": "stream",
     "text": [
      "Runtime: 14.70 seconds\n"
     ]
    },
    {
     "name": "stderr",
     "output_type": "stream",
     "text": [
      " 16%|█▌        | 16/100 [03:55<20:39, 14.75s/it]"
     ]
    },
    {
     "name": "stdout",
     "output_type": "stream",
     "text": [
      "Runtime: 14.71 seconds\n"
     ]
    },
    {
     "name": "stderr",
     "output_type": "stream",
     "text": [
      " 17%|█▋        | 17/100 [04:10<20:26, 14.78s/it]"
     ]
    },
    {
     "name": "stdout",
     "output_type": "stream",
     "text": [
      "Runtime: 14.72 seconds\n"
     ]
    },
    {
     "name": "stderr",
     "output_type": "stream",
     "text": [
      " 18%|█▊        | 18/100 [04:25<20:11, 14.77s/it]"
     ]
    },
    {
     "name": "stdout",
     "output_type": "stream",
     "text": [
      "Runtime: 14.71 seconds\n"
     ]
    },
    {
     "name": "stderr",
     "output_type": "stream",
     "text": [
      " 19%|█▉        | 19/100 [04:39<19:56, 14.77s/it]"
     ]
    },
    {
     "name": "stdout",
     "output_type": "stream",
     "text": [
      "Runtime: 14.72 seconds\n"
     ]
    },
    {
     "name": "stderr",
     "output_type": "stream",
     "text": [
      " 20%|██        | 20/100 [04:54<19:41, 14.77s/it]"
     ]
    },
    {
     "name": "stdout",
     "output_type": "stream",
     "text": [
      "Runtime: 14.73 seconds\n"
     ]
    },
    {
     "name": "stderr",
     "output_type": "stream",
     "text": [
      " 21%|██        | 21/100 [05:09<19:26, 14.76s/it]"
     ]
    },
    {
     "name": "stdout",
     "output_type": "stream",
     "text": [
      "Runtime: 14.72 seconds\n"
     ]
    },
    {
     "name": "stderr",
     "output_type": "stream",
     "text": [
      " 22%|██▏       | 22/100 [05:24<19:15, 14.82s/it]"
     ]
    },
    {
     "name": "stdout",
     "output_type": "stream",
     "text": [
      "Runtime: 14.89 seconds\n"
     ]
    },
    {
     "name": "stderr",
     "output_type": "stream",
     "text": [
      " 23%|██▎       | 23/100 [05:39<18:59, 14.80s/it]"
     ]
    },
    {
     "name": "stdout",
     "output_type": "stream",
     "text": [
      "Runtime: 14.72 seconds\n"
     ]
    },
    {
     "name": "stderr",
     "output_type": "stream",
     "text": [
      " 24%|██▍       | 24/100 [05:53<18:45, 14.81s/it]"
     ]
    },
    {
     "name": "stdout",
     "output_type": "stream",
     "text": [
      "Runtime: 14.80 seconds\n"
     ]
    },
    {
     "name": "stderr",
     "output_type": "stream",
     "text": [
      " 25%|██▌       | 25/100 [06:08<18:31, 14.82s/it]"
     ]
    },
    {
     "name": "stdout",
     "output_type": "stream",
     "text": [
      "Runtime: 14.79 seconds\n"
     ]
    },
    {
     "name": "stderr",
     "output_type": "stream",
     "text": [
      " 26%|██▌       | 26/100 [06:23<18:16, 14.82s/it]"
     ]
    },
    {
     "name": "stdout",
     "output_type": "stream",
     "text": [
      "Runtime: 14.77 seconds\n"
     ]
    },
    {
     "name": "stderr",
     "output_type": "stream",
     "text": [
      " 27%|██▋       | 27/100 [06:38<18:00, 14.80s/it]"
     ]
    },
    {
     "name": "stdout",
     "output_type": "stream",
     "text": [
      "Runtime: 14.71 seconds\n"
     ]
    },
    {
     "name": "stderr",
     "output_type": "stream",
     "text": [
      " 28%|██▊       | 28/100 [06:53<17:44, 14.78s/it]"
     ]
    },
    {
     "name": "stdout",
     "output_type": "stream",
     "text": [
      "Runtime: 14.71 seconds\n"
     ]
    },
    {
     "name": "stderr",
     "output_type": "stream",
     "text": [
      " 29%|██▉       | 29/100 [07:07<17:29, 14.78s/it]"
     ]
    },
    {
     "name": "stdout",
     "output_type": "stream",
     "text": [
      "Runtime: 14.70 seconds\n"
     ]
    },
    {
     "name": "stderr",
     "output_type": "stream",
     "text": [
      " 30%|███       | 30/100 [07:22<17:13, 14.77s/it]"
     ]
    },
    {
     "name": "stdout",
     "output_type": "stream",
     "text": [
      "Runtime: 14.71 seconds\n"
     ]
    },
    {
     "name": "stderr",
     "output_type": "stream",
     "text": [
      " 31%|███       | 31/100 [07:37<16:58, 14.76s/it]"
     ]
    },
    {
     "name": "stdout",
     "output_type": "stream",
     "text": [
      "Runtime: 14.70 seconds\n"
     ]
    },
    {
     "name": "stderr",
     "output_type": "stream",
     "text": [
      " 32%|███▏      | 32/100 [07:52<16:42, 14.75s/it]"
     ]
    },
    {
     "name": "stdout",
     "output_type": "stream",
     "text": [
      "Runtime: 14.70 seconds\n"
     ]
    },
    {
     "name": "stderr",
     "output_type": "stream",
     "text": [
      " 33%|███▎      | 33/100 [08:06<16:27, 14.74s/it]"
     ]
    },
    {
     "name": "stdout",
     "output_type": "stream",
     "text": [
      "Runtime: 14.70 seconds\n"
     ]
    },
    {
     "name": "stderr",
     "output_type": "stream",
     "text": [
      " 34%|███▍      | 34/100 [08:21<16:13, 14.75s/it]"
     ]
    },
    {
     "name": "stdout",
     "output_type": "stream",
     "text": [
      "Runtime: 14.72 seconds\n"
     ]
    },
    {
     "name": "stderr",
     "output_type": "stream",
     "text": [
      " 35%|███▌      | 35/100 [08:36<15:58, 14.75s/it]"
     ]
    },
    {
     "name": "stdout",
     "output_type": "stream",
     "text": [
      "Runtime: 14.70 seconds\n"
     ]
    },
    {
     "name": "stderr",
     "output_type": "stream",
     "text": [
      " 36%|███▌      | 36/100 [08:51<15:43, 14.75s/it]"
     ]
    },
    {
     "name": "stdout",
     "output_type": "stream",
     "text": [
      "Runtime: 14.71 seconds\n"
     ]
    },
    {
     "name": "stderr",
     "output_type": "stream",
     "text": [
      " 37%|███▋      | 37/100 [09:05<15:28, 14.74s/it]"
     ]
    },
    {
     "name": "stdout",
     "output_type": "stream",
     "text": [
      "Runtime: 14.68 seconds\n"
     ]
    },
    {
     "name": "stderr",
     "output_type": "stream",
     "text": [
      " 38%|███▊      | 38/100 [09:20<15:16, 14.78s/it]"
     ]
    },
    {
     "name": "stdout",
     "output_type": "stream",
     "text": [
      "Runtime: 14.85 seconds\n"
     ]
    },
    {
     "name": "stderr",
     "output_type": "stream",
     "text": [
      " 39%|███▉      | 39/100 [09:35<15:00, 14.77s/it]"
     ]
    },
    {
     "name": "stdout",
     "output_type": "stream",
     "text": [
      "Runtime: 14.70 seconds\n"
     ]
    },
    {
     "name": "stderr",
     "output_type": "stream",
     "text": [
      " 40%|████      | 40/100 [09:50<14:45, 14.75s/it]"
     ]
    },
    {
     "name": "stdout",
     "output_type": "stream",
     "text": [
      "Runtime: 14.68 seconds\n"
     ]
    },
    {
     "name": "stderr",
     "output_type": "stream",
     "text": [
      " 41%|████      | 41/100 [10:04<14:30, 14.75s/it]"
     ]
    },
    {
     "name": "stdout",
     "output_type": "stream",
     "text": [
      "Runtime: 14.68 seconds\n"
     ]
    },
    {
     "name": "stderr",
     "output_type": "stream",
     "text": [
      " 42%|████▏     | 42/100 [10:19<14:15, 14.74s/it]"
     ]
    },
    {
     "name": "stdout",
     "output_type": "stream",
     "text": [
      "Runtime: 14.68 seconds\n"
     ]
    },
    {
     "name": "stderr",
     "output_type": "stream",
     "text": [
      " 43%|████▎     | 43/100 [10:34<13:59, 14.73s/it]"
     ]
    },
    {
     "name": "stdout",
     "output_type": "stream",
     "text": [
      "Runtime: 14.68 seconds\n"
     ]
    },
    {
     "name": "stderr",
     "output_type": "stream",
     "text": [
      " 44%|████▍     | 44/100 [10:49<13:44, 14.73s/it]"
     ]
    },
    {
     "name": "stdout",
     "output_type": "stream",
     "text": [
      "Runtime: 14.69 seconds\n"
     ]
    },
    {
     "name": "stderr",
     "output_type": "stream",
     "text": [
      " 45%|████▌     | 45/100 [11:03<13:30, 14.73s/it]"
     ]
    },
    {
     "name": "stdout",
     "output_type": "stream",
     "text": [
      "Runtime: 14.69 seconds\n"
     ]
    },
    {
     "name": "stderr",
     "output_type": "stream",
     "text": [
      " 46%|████▌     | 46/100 [11:18<13:15, 14.73s/it]"
     ]
    },
    {
     "name": "stdout",
     "output_type": "stream",
     "text": [
      "Runtime: 14.68 seconds\n"
     ]
    },
    {
     "name": "stderr",
     "output_type": "stream",
     "text": [
      " 47%|████▋     | 47/100 [11:33<13:00, 14.72s/it]"
     ]
    },
    {
     "name": "stdout",
     "output_type": "stream",
     "text": [
      "Runtime: 14.68 seconds\n"
     ]
    },
    {
     "name": "stderr",
     "output_type": "stream",
     "text": [
      " 48%|████▊     | 48/100 [11:47<12:45, 14.73s/it]"
     ]
    },
    {
     "name": "stdout",
     "output_type": "stream",
     "text": [
      "Runtime: 14.68 seconds\n"
     ]
    },
    {
     "name": "stderr",
     "output_type": "stream",
     "text": [
      " 49%|████▉     | 49/100 [12:02<12:30, 14.72s/it]"
     ]
    },
    {
     "name": "stdout",
     "output_type": "stream",
     "text": [
      "Runtime: 14.67 seconds\n"
     ]
    },
    {
     "name": "stderr",
     "output_type": "stream",
     "text": [
      " 50%|█████     | 50/100 [12:17<12:16, 14.72s/it]"
     ]
    },
    {
     "name": "stdout",
     "output_type": "stream",
     "text": [
      "Runtime: 14.68 seconds\n"
     ]
    },
    {
     "name": "stderr",
     "output_type": "stream",
     "text": [
      " 51%|█████     | 51/100 [12:32<12:01, 14.72s/it]"
     ]
    },
    {
     "name": "stdout",
     "output_type": "stream",
     "text": [
      "Runtime: 14.68 seconds\n"
     ]
    },
    {
     "name": "stderr",
     "output_type": "stream",
     "text": [
      " 52%|█████▏    | 52/100 [12:46<11:46, 14.72s/it]"
     ]
    },
    {
     "name": "stdout",
     "output_type": "stream",
     "text": [
      "Runtime: 14.67 seconds\n"
     ]
    },
    {
     "name": "stderr",
     "output_type": "stream",
     "text": [
      " 53%|█████▎    | 53/100 [13:01<11:31, 14.72s/it]"
     ]
    },
    {
     "name": "stdout",
     "output_type": "stream",
     "text": [
      "Runtime: 14.67 seconds\n"
     ]
    },
    {
     "name": "stderr",
     "output_type": "stream",
     "text": [
      " 54%|█████▍    | 54/100 [13:16<11:19, 14.77s/it]"
     ]
    },
    {
     "name": "stdout",
     "output_type": "stream",
     "text": [
      "Runtime: 14.85 seconds\n"
     ]
    },
    {
     "name": "stderr",
     "output_type": "stream",
     "text": [
      " 55%|█████▌    | 55/100 [13:31<11:04, 14.76s/it]"
     ]
    },
    {
     "name": "stdout",
     "output_type": "stream",
     "text": [
      "Runtime: 14.68 seconds\n"
     ]
    },
    {
     "name": "stderr",
     "output_type": "stream",
     "text": [
      " 56%|█████▌    | 56/100 [13:45<10:48, 14.75s/it]"
     ]
    },
    {
     "name": "stdout",
     "output_type": "stream",
     "text": [
      "Runtime: 14.69 seconds\n"
     ]
    },
    {
     "name": "stderr",
     "output_type": "stream",
     "text": [
      " 57%|█████▋    | 57/100 [14:00<10:33, 14.74s/it]"
     ]
    },
    {
     "name": "stdout",
     "output_type": "stream",
     "text": [
      "Runtime: 14.69 seconds\n"
     ]
    },
    {
     "name": "stderr",
     "output_type": "stream",
     "text": [
      " 58%|█████▊    | 58/100 [14:15<10:19, 14.74s/it]"
     ]
    },
    {
     "name": "stdout",
     "output_type": "stream",
     "text": [
      "Runtime: 14.69 seconds\n"
     ]
    },
    {
     "name": "stderr",
     "output_type": "stream",
     "text": [
      " 59%|█████▉    | 59/100 [14:30<10:04, 14.74s/it]"
     ]
    },
    {
     "name": "stdout",
     "output_type": "stream",
     "text": [
      "Runtime: 14.68 seconds\n"
     ]
    },
    {
     "name": "stderr",
     "output_type": "stream",
     "text": [
      " 60%|██████    | 60/100 [14:44<09:49, 14.74s/it]"
     ]
    },
    {
     "name": "stdout",
     "output_type": "stream",
     "text": [
      "Runtime: 14.69 seconds\n"
     ]
    },
    {
     "name": "stderr",
     "output_type": "stream",
     "text": [
      " 61%|██████    | 61/100 [14:59<09:34, 14.73s/it]"
     ]
    },
    {
     "name": "stdout",
     "output_type": "stream",
     "text": [
      "Runtime: 14.68 seconds\n"
     ]
    },
    {
     "name": "stderr",
     "output_type": "stream",
     "text": [
      " 62%|██████▏   | 62/100 [15:14<09:19, 14.73s/it]"
     ]
    },
    {
     "name": "stdout",
     "output_type": "stream",
     "text": [
      "Runtime: 14.68 seconds\n"
     ]
    },
    {
     "name": "stderr",
     "output_type": "stream",
     "text": [
      " 63%|██████▎   | 63/100 [15:28<09:04, 14.73s/it]"
     ]
    },
    {
     "name": "stdout",
     "output_type": "stream",
     "text": [
      "Runtime: 14.69 seconds\n"
     ]
    },
    {
     "name": "stderr",
     "output_type": "stream",
     "text": [
      " 64%|██████▍   | 64/100 [15:43<08:50, 14.72s/it]"
     ]
    },
    {
     "name": "stdout",
     "output_type": "stream",
     "text": [
      "Runtime: 14.68 seconds\n"
     ]
    },
    {
     "name": "stderr",
     "output_type": "stream",
     "text": [
      " 65%|██████▌   | 65/100 [15:58<08:35, 14.72s/it]"
     ]
    },
    {
     "name": "stdout",
     "output_type": "stream",
     "text": [
      "Runtime: 14.68 seconds\n"
     ]
    },
    {
     "name": "stderr",
     "output_type": "stream",
     "text": [
      " 66%|██████▌   | 66/100 [16:13<08:20, 14.72s/it]"
     ]
    },
    {
     "name": "stdout",
     "output_type": "stream",
     "text": [
      "Runtime: 14.68 seconds\n"
     ]
    },
    {
     "name": "stderr",
     "output_type": "stream",
     "text": [
      " 67%|██████▋   | 67/100 [16:27<08:05, 14.72s/it]"
     ]
    },
    {
     "name": "stdout",
     "output_type": "stream",
     "text": [
      "Runtime: 14.68 seconds\n"
     ]
    },
    {
     "name": "stderr",
     "output_type": "stream",
     "text": [
      " 68%|██████▊   | 68/100 [16:42<07:51, 14.72s/it]"
     ]
    },
    {
     "name": "stdout",
     "output_type": "stream",
     "text": [
      "Runtime: 14.68 seconds\n"
     ]
    },
    {
     "name": "stderr",
     "output_type": "stream",
     "text": [
      " 69%|██████▉   | 69/100 [16:57<07:36, 14.72s/it]"
     ]
    },
    {
     "name": "stdout",
     "output_type": "stream",
     "text": [
      "Runtime: 14.68 seconds\n"
     ]
    },
    {
     "name": "stderr",
     "output_type": "stream",
     "text": [
      " 70%|███████   | 70/100 [17:11<07:21, 14.72s/it]"
     ]
    },
    {
     "name": "stdout",
     "output_type": "stream",
     "text": [
      "Runtime: 14.68 seconds\n"
     ]
    },
    {
     "name": "stderr",
     "output_type": "stream",
     "text": [
      " 71%|███████   | 71/100 [17:26<07:08, 14.78s/it]"
     ]
    },
    {
     "name": "stdout",
     "output_type": "stream",
     "text": [
      "Runtime: 14.86 seconds\n"
     ]
    },
    {
     "name": "stderr",
     "output_type": "stream",
     "text": [
      " 72%|███████▏  | 72/100 [17:41<06:53, 14.77s/it]"
     ]
    },
    {
     "name": "stdout",
     "output_type": "stream",
     "text": [
      "Runtime: 14.68 seconds\n"
     ]
    },
    {
     "name": "stderr",
     "output_type": "stream",
     "text": [
      " 73%|███████▎  | 73/100 [17:56<06:38, 14.76s/it]"
     ]
    },
    {
     "name": "stdout",
     "output_type": "stream",
     "text": [
      "Runtime: 14.68 seconds\n"
     ]
    },
    {
     "name": "stderr",
     "output_type": "stream",
     "text": [
      " 74%|███████▍  | 74/100 [18:11<06:23, 14.75s/it]"
     ]
    },
    {
     "name": "stdout",
     "output_type": "stream",
     "text": [
      "Runtime: 14.68 seconds\n"
     ]
    },
    {
     "name": "stderr",
     "output_type": "stream",
     "text": [
      " 75%|███████▌  | 75/100 [18:25<06:08, 14.74s/it]"
     ]
    },
    {
     "name": "stdout",
     "output_type": "stream",
     "text": [
      "Runtime: 14.68 seconds\n"
     ]
    },
    {
     "name": "stderr",
     "output_type": "stream",
     "text": [
      " 76%|███████▌  | 76/100 [18:40<05:53, 14.73s/it]"
     ]
    },
    {
     "name": "stdout",
     "output_type": "stream",
     "text": [
      "Runtime: 14.69 seconds\n"
     ]
    },
    {
     "name": "stderr",
     "output_type": "stream",
     "text": [
      " 77%|███████▋  | 77/100 [18:55<05:38, 14.73s/it]"
     ]
    },
    {
     "name": "stdout",
     "output_type": "stream",
     "text": [
      "Runtime: 14.69 seconds\n"
     ]
    },
    {
     "name": "stderr",
     "output_type": "stream",
     "text": [
      " 78%|███████▊  | 78/100 [19:10<05:24, 14.73s/it]"
     ]
    },
    {
     "name": "stdout",
     "output_type": "stream",
     "text": [
      "Runtime: 14.69 seconds\n"
     ]
    },
    {
     "name": "stderr",
     "output_type": "stream",
     "text": [
      " 79%|███████▉  | 79/100 [19:24<05:09, 14.73s/it]"
     ]
    },
    {
     "name": "stdout",
     "output_type": "stream",
     "text": [
      "Runtime: 14.68 seconds\n"
     ]
    },
    {
     "name": "stderr",
     "output_type": "stream",
     "text": [
      " 80%|████████  | 80/100 [19:39<04:54, 14.73s/it]"
     ]
    },
    {
     "name": "stdout",
     "output_type": "stream",
     "text": [
      "Runtime: 14.69 seconds\n"
     ]
    },
    {
     "name": "stderr",
     "output_type": "stream",
     "text": [
      " 81%|████████  | 81/100 [19:54<04:39, 14.73s/it]"
     ]
    },
    {
     "name": "stdout",
     "output_type": "stream",
     "text": [
      "Runtime: 14.68 seconds\n"
     ]
    },
    {
     "name": "stderr",
     "output_type": "stream",
     "text": [
      " 82%|████████▏ | 82/100 [20:08<04:25, 14.73s/it]"
     ]
    },
    {
     "name": "stdout",
     "output_type": "stream",
     "text": [
      "Runtime: 14.69 seconds\n"
     ]
    },
    {
     "name": "stderr",
     "output_type": "stream",
     "text": [
      " 83%|████████▎ | 83/100 [20:23<04:10, 14.74s/it]"
     ]
    },
    {
     "name": "stdout",
     "output_type": "stream",
     "text": [
      "Runtime: 14.71 seconds\n"
     ]
    },
    {
     "name": "stderr",
     "output_type": "stream",
     "text": [
      " 84%|████████▍ | 84/100 [20:38<03:55, 14.74s/it]"
     ]
    },
    {
     "name": "stdout",
     "output_type": "stream",
     "text": [
      "Runtime: 14.72 seconds\n"
     ]
    },
    {
     "name": "stderr",
     "output_type": "stream",
     "text": [
      " 85%|████████▌ | 85/100 [20:53<03:41, 14.74s/it]"
     ]
    },
    {
     "name": "stdout",
     "output_type": "stream",
     "text": [
      "Runtime: 14.68 seconds\n"
     ]
    },
    {
     "name": "stderr",
     "output_type": "stream",
     "text": [
      " 86%|████████▌ | 86/100 [21:07<03:26, 14.74s/it]"
     ]
    },
    {
     "name": "stdout",
     "output_type": "stream",
     "text": [
      "Runtime: 14.70 seconds\n"
     ]
    },
    {
     "name": "stderr",
     "output_type": "stream",
     "text": [
      " 87%|████████▋ | 87/100 [21:22<03:12, 14.78s/it]"
     ]
    },
    {
     "name": "stdout",
     "output_type": "stream",
     "text": [
      "Runtime: 14.85 seconds\n"
     ]
    },
    {
     "name": "stderr",
     "output_type": "stream",
     "text": [
      " 88%|████████▊ | 88/100 [21:37<02:57, 14.78s/it]"
     ]
    },
    {
     "name": "stdout",
     "output_type": "stream",
     "text": [
      "Runtime: 14.73 seconds\n"
     ]
    },
    {
     "name": "stderr",
     "output_type": "stream",
     "text": [
      " 89%|████████▉ | 89/100 [21:52<02:42, 14.77s/it]"
     ]
    },
    {
     "name": "stdout",
     "output_type": "stream",
     "text": [
      "Runtime: 14.70 seconds\n"
     ]
    },
    {
     "name": "stderr",
     "output_type": "stream",
     "text": [
      " 90%|█████████ | 90/100 [22:07<02:27, 14.76s/it]"
     ]
    },
    {
     "name": "stdout",
     "output_type": "stream",
     "text": [
      "Runtime: 14.68 seconds\n"
     ]
    },
    {
     "name": "stderr",
     "output_type": "stream",
     "text": [
      " 91%|█████████ | 91/100 [22:21<02:12, 14.75s/it]"
     ]
    },
    {
     "name": "stdout",
     "output_type": "stream",
     "text": [
      "Runtime: 14.68 seconds\n"
     ]
    },
    {
     "name": "stderr",
     "output_type": "stream",
     "text": [
      " 92%|█████████▏| 92/100 [22:36<01:57, 14.74s/it]"
     ]
    },
    {
     "name": "stdout",
     "output_type": "stream",
     "text": [
      "Runtime: 14.68 seconds\n"
     ]
    },
    {
     "name": "stderr",
     "output_type": "stream",
     "text": [
      " 93%|█████████▎| 93/100 [22:51<01:43, 14.74s/it]"
     ]
    },
    {
     "name": "stdout",
     "output_type": "stream",
     "text": [
      "Runtime: 14.69 seconds\n"
     ]
    },
    {
     "name": "stderr",
     "output_type": "stream",
     "text": [
      " 94%|█████████▍| 94/100 [23:05<01:28, 14.75s/it]"
     ]
    },
    {
     "name": "stdout",
     "output_type": "stream",
     "text": [
      "Runtime: 14.72 seconds\n"
     ]
    },
    {
     "name": "stderr",
     "output_type": "stream",
     "text": [
      " 95%|█████████▌| 95/100 [23:20<01:13, 14.78s/it]"
     ]
    },
    {
     "name": "stdout",
     "output_type": "stream",
     "text": [
      "Runtime: 14.80 seconds\n"
     ]
    },
    {
     "name": "stderr",
     "output_type": "stream",
     "text": [
      " 96%|█████████▌| 96/100 [23:35<00:59, 14.79s/it]"
     ]
    },
    {
     "name": "stdout",
     "output_type": "stream",
     "text": [
      "Runtime: 14.76 seconds\n"
     ]
    },
    {
     "name": "stderr",
     "output_type": "stream",
     "text": [
      " 97%|█████████▋| 97/100 [23:50<00:44, 14.78s/it]"
     ]
    },
    {
     "name": "stdout",
     "output_type": "stream",
     "text": [
      "Runtime: 14.71 seconds\n"
     ]
    },
    {
     "name": "stderr",
     "output_type": "stream",
     "text": [
      " 98%|█████████▊| 98/100 [24:05<00:29, 14.77s/it]"
     ]
    },
    {
     "name": "stdout",
     "output_type": "stream",
     "text": [
      "Runtime: 14.70 seconds\n"
     ]
    },
    {
     "name": "stderr",
     "output_type": "stream",
     "text": [
      " 99%|█████████▉| 99/100 [24:19<00:14, 14.76s/it]"
     ]
    },
    {
     "name": "stdout",
     "output_type": "stream",
     "text": [
      "Runtime: 14.70 seconds\n"
     ]
    },
    {
     "name": "stderr",
     "output_type": "stream",
     "text": [
      "100%|██████████| 100/100 [24:34<00:00, 14.75s/it]"
     ]
    },
    {
     "name": "stdout",
     "output_type": "stream",
     "text": [
      "Runtime: 14.70 seconds\n",
      "Please enjoy the results in results/inn_jpeg10_compression...\n"
     ]
    },
    {
     "name": "stderr",
     "output_type": "stream",
     "text": [
      "\n"
     ]
    }
   ],
   "source": [
    "%run inference_compression.py \\\n",
    "    -i testdata/jpeg_qf10 -o results/inn_jpeg10_compression --task restoration \\\n",
    "    --eta 0.5 --aligned  --use_fp16 \\\n",
    "    --config_indigo configs/sample/indigo_syn_jpeg.yaml"
   ]
  },
  {
   "cell_type": "markdown",
   "metadata": {},
   "source": [
    "Issue: for inference, the CINN backward transform expects input image size 128x128. The diffusion model expects image size 512, and upsamples inputs size 128 to deal with mismatch. This means that diffusion model can deal with image input that is too small but cinn cannot deal image input that is too large.\n",
    "\n",
    "Fix: interpolate images to match `configs.im_size` parameter imposed by pretrained network, producing `y0_resized`. Generate `yt` from `y0_resized`, which is the first input (noise) from which the diffusion model starts sampling. Afterwards, downsample `y0_resized` by factor 4 to produce `y0_down4`, which is a valid input for backward INN transform."
   ]
  },
  {
   "cell_type": "markdown",
   "metadata": {},
   "source": [
    "# Training on JPEG Compression"
   ]
  },
  {
   "cell_type": "code",
   "execution_count": 1,
   "metadata": {},
   "outputs": [
    {
     "name": "stdout",
     "output_type": "stream",
     "text": [
      "Disable distributed.\n",
      "Path already exists. Rename it to /rds/general/user/aem21/home/FYP/compression_indigo_plus/inn/tb_logger/inn_jpeg_qf50_archived_20250507_152836\n"
     ]
    },
    {
     "name": "stderr",
     "output_type": "stream",
     "text": [
      "2025-05-07 15:28:36,302 INFO: \n",
      "                ____                _       _____  ____\n",
      "               / __ ) ____ _ _____ (_)_____/ ___/ / __ \\\n",
      "              / __  |/ __ `// ___// // ___/\\__ \\ / /_/ /\n",
      "             / /_/ // /_/ /(__  )/ // /__ ___/ // _, _/\n",
      "            /_____/ \\__,_//____//_/ \\___//____//_/ |_|\n",
      "     ______                   __   __                 __      __\n",
      "    / ____/____   ____   ____/ /  / /   __  __ _____ / /__   / /\n",
      "   / / __ / __ \\ / __ \\ / __  /  / /   / / / // ___// //_/  / /\n",
      "  / /_/ // /_/ // /_/ // /_/ /  / /___/ /_/ // /__ / /<    /_/\n",
      "  \\____/ \\____/ \\____/ \\____/  /_____/\\____/ \\___//_/|_|  (_)\n",
      "    \n",
      "Version Information: \n",
      "\tBasicSR: 1.4.2\n",
      "\tPyTorch: 2.5.1+cu124\n",
      "\tTorchVision: 0.20.1+cu124\n",
      "2025-05-07 15:28:36,303 INFO: \n",
      "  name: inn_jpeg_qf50\n",
      "  model_type: CINNModel\n",
      "  scale: 4\n",
      "  num_gpu: 1\n",
      "  manual_seed: 0\n",
      "  datasets:[\n",
      "    train:[\n",
      "      name: FFHQJPEGTrain\n",
      "      type: FFHQJPEGDataset\n",
      "      dataroot_gt: datasets/ffhq/train\n",
      "      io_backend:[\n",
      "        type: disk\n",
      "      ]\n",
      "      gt_size: 512\n",
      "      qf: 50\n",
      "      use_flip: True\n",
      "      use_rot: True\n",
      "      use_shuffle: True\n",
      "      num_worker_per_gpu: 3\n",
      "      batch_size_per_gpu: 8\n",
      "      dataset_enlarge_ratio: 1\n",
      "      prefetch_mode: None\n",
      "      phase: train\n",
      "      scale: 4\n",
      "    ]\n",
      "    val:[\n",
      "      name: FFHQJPEGVal\n",
      "      type: FFHQJPEGDataset\n",
      "      dataroot_gt: datasets/ffhq/val\n",
      "      gt_size: 512\n",
      "      qf: 50\n",
      "      io_backend:[\n",
      "        type: disk\n",
      "      ]\n",
      "      phase: val\n",
      "      scale: 4\n",
      "    ]\n",
      "  ]\n",
      "  network_g:[\n",
      "    type: RWNN\n",
      "    offset: 0.5\n",
      "    LiftNet_iter: 2\n",
      "    basic_block_type: rb_cres_kdsr\n",
      "    net_kdsr: None\n",
      "    kdsr: 1\n",
      "  ]\n",
      "  path:[\n",
      "    pretrain_network_g: None\n",
      "    strict_load_g: True\n",
      "    resume_state: None\n",
      "    experiments_root: /rds/general/user/aem21/home/FYP/compression_indigo_plus/inn/experiments/inn_jpeg_qf50\n",
      "    models: /rds/general/user/aem21/home/FYP/compression_indigo_plus/inn/experiments/inn_jpeg_qf50/models\n",
      "    training_states: /rds/general/user/aem21/home/FYP/compression_indigo_plus/inn/experiments/inn_jpeg_qf50/training_states\n",
      "    log: /rds/general/user/aem21/home/FYP/compression_indigo_plus/inn/experiments/inn_jpeg_qf50\n",
      "    visualization: /rds/general/user/aem21/home/FYP/compression_indigo_plus/inn/experiments/inn_jpeg_qf50/visualization\n",
      "  ]\n",
      "  train:[\n",
      "    optim_g:[\n",
      "      type: Adam\n",
      "      lr: 2e-05\n",
      "      weight_decay: 0.001\n",
      "      betas: [0.9, 0.99]\n",
      "    ]\n",
      "    scheduler:[\n",
      "      type: MultiStepLR\n",
      "      milestones: [50000]\n",
      "      gamma: 0.5\n",
      "    ]\n",
      "    total_iter: 10000\n",
      "    warmup_iter: -1\n",
      "    l2_opt:[\n",
      "      type: MSELoss\n",
      "      loss_weight: 1.0\n",
      "      reduction: mean\n",
      "    ]\n",
      "  ]\n",
      "  val:[\n",
      "    val_freq: 5000.0\n",
      "    save_img: True\n",
      "    metrics:[\n",
      "      psnr:[\n",
      "        type: calculate_psnr\n",
      "        crop_border: 4\n",
      "        test_y_channel: False\n",
      "      ]\n",
      "      niqe:[\n",
      "        type: calculate_niqe\n",
      "        crop_border: 4\n",
      "      ]\n",
      "    ]\n",
      "  ]\n",
      "  logger:[\n",
      "    print_freq: 100\n",
      "    save_checkpoint_freq: 5000.0\n",
      "    use_tb_logger: True\n",
      "    wandb:[\n",
      "      project: None\n",
      "      resume_id: None\n",
      "    ]\n",
      "  ]\n",
      "  dist: False\n",
      "  rank: 0\n",
      "  world_size: 1\n",
      "  auto_resume: False\n",
      "  is_train: True\n",
      "  root_path: /rds/general/user/aem21/home/FYP/compression_indigo_plus/inn\n",
      "\n",
      "2025-05-07 15:28:38,527 INFO: Dataset [FFHQJPEGDataset] - FFHQJPEGTrain is built.\n",
      "2025-05-07 15:28:38,528 INFO: Training statistics:\n",
      "\tNumber of train images: 1600\n",
      "\tDataset enlarge ratio: 1\n",
      "\tBatch size per gpu: 8\n",
      "\tWorld size (gpu number): 1\n",
      "\tRequire iter number per epoch: 200\n",
      "\tTotal epochs: 50; iters: 10000.\n",
      "2025-05-07 15:28:38,534 INFO: Dataset [FFHQJPEGDataset] - FFHQJPEGVal is built.\n",
      "2025-05-07 15:28:38,535 INFO: Number of val images/folders in FFHQJPEGVal: 400\n",
      "2025-05-07 15:28:38,561 INFO: Network [RWNN] is created.\n",
      "2025-05-07 15:28:38,855 INFO: Network: RWNN, with parameters: 488,960\n",
      "2025-05-07 15:28:38,856 INFO: RWNN(\n",
      "  (transform_net): ImageTransform(\n",
      "    (split): LazyWaveletTransform()\n",
      "    (inn): InvertibleNet(\n",
      "      (lifts): ModuleList(\n",
      "        (0-3): 4 x LiftNet(\n",
      "          (p): PredictorNet(\n",
      "            (net): ResNet(\n",
      "              (convin): Conv2d(3, 32, kernel_size=(3, 3), stride=(1, 1), padding=same, bias=False)\n",
      "              (blocks): ModuleList(\n",
      "                (0-1): 2 x ResidualBlock_CRes_kdsr(\n",
      "                  (conv1): Conv2d(32, 32, kernel_size=(3, 3), stride=(1, 1), padding=(1, 1))\n",
      "                  (conv2): Conv2d(32, 32, kernel_size=(3, 3), stride=(1, 1), padding=(1, 1))\n",
      "                  (act): ReLU(inplace=True)\n",
      "                  (fc): Sequential(\n",
      "                    (0): Linear(in_features=128, out_features=64, bias=True)\n",
      "                    (1): ReLU(inplace=True)\n",
      "                    (2): Linear(in_features=64, out_features=32, bias=True)\n",
      "                  )\n",
      "                )\n",
      "              )\n",
      "              (convout): Conv2d(32, 9, kernel_size=(3, 3), stride=(1, 1), padding=same, bias=False)\n",
      "            )\n",
      "          )\n",
      "          (u): UpdaterNet(\n",
      "            (net): ResNet(\n",
      "              (convin): Conv2d(9, 32, kernel_size=(3, 3), stride=(1, 1), padding=same, bias=False)\n",
      "              (blocks): ModuleList(\n",
      "                (0-1): 2 x ResidualBlock_CRes_kdsr(\n",
      "                  (conv1): Conv2d(32, 32, kernel_size=(3, 3), stride=(1, 1), padding=(1, 1))\n",
      "                  (conv2): Conv2d(32, 32, kernel_size=(3, 3), stride=(1, 1), padding=(1, 1))\n",
      "                  (act): ReLU(inplace=True)\n",
      "                  (fc): Sequential(\n",
      "                    (0): Linear(in_features=128, out_features=64, bias=True)\n",
      "                    (1): ReLU(inplace=True)\n",
      "                    (2): Linear(in_features=64, out_features=32, bias=True)\n",
      "                  )\n",
      "                )\n",
      "              )\n",
      "              (convout): Conv2d(32, 3, kernel_size=(3, 3), stride=(1, 1), padding=same, bias=False)\n",
      "            )\n",
      "          )\n",
      "        )\n",
      "      )\n",
      "    )\n",
      "  )\n",
      ")\n",
      "2025-05-07 15:28:38,859 INFO: Loss [MSELoss] is created.\n",
      "2025-05-07 15:28:38,860 INFO: Model [CINNModel] is created.\n",
      "2025-05-07 15:28:38,967 INFO: Start training from epoch: 0, iter: 0\n",
      "2025-05-07 15:29:10,123 INFO: [inn_j..][epoch:  0, iter:     100, lr:(2.000e-05,)] [eta: 0:43:41, time (data): 0.312 (0.016)] l_l2: 8.0831e-03 \n",
      "2025-05-07 15:29:37,520 INFO: [inn_j..][epoch:  0, iter:     200, lr:(2.000e-05,)] [eta: 0:43:59, time (data): 0.293 (0.011)] l_l2: 3.9707e-03 \n",
      "2025-05-07 15:30:05,742 INFO: [inn_j..][epoch:  1, iter:     300, lr:(2.000e-05,)] [eta: 0:44:13, time (data): 0.276 (0.007)] l_l2: 5.5005e-03 \n",
      "2025-05-07 15:30:33,398 INFO: [inn_j..][epoch:  1, iter:     400, lr:(2.000e-05,)] [eta: 0:43:53, time (data): 0.276 (0.007)] l_l2: 4.5703e-03 \n",
      "2025-05-07 15:31:01,805 INFO: [inn_j..][epoch:  2, iter:     500, lr:(2.000e-05,)] [eta: 0:43:44, time (data): 0.276 (0.007)] l_l2: 3.1124e-03 \n",
      "2025-05-07 15:31:29,516 INFO: [inn_j..][epoch:  2, iter:     600, lr:(2.000e-05,)] [eta: 0:43:18, time (data): 0.277 (0.007)] l_l2: 2.5829e-03 \n",
      "2025-05-07 15:31:57,965 INFO: [inn_j..][epoch:  3, iter:     700, lr:(2.000e-05,)] [eta: 0:43:01, time (data): 0.277 (0.007)] l_l2: 2.8919e-03 \n",
      "2025-05-07 15:32:25,669 INFO: [inn_j..][epoch:  3, iter:     800, lr:(2.000e-05,)] [eta: 0:42:32, time (data): 0.277 (0.007)] l_l2: 2.0250e-03 \n",
      "2025-05-07 15:32:54,195 INFO: [inn_j..][epoch:  4, iter:     900, lr:(2.000e-05,)] [eta: 0:42:12, time (data): 0.276 (0.006)] l_l2: 1.9290e-03 \n",
      "2025-05-07 15:33:21,932 INFO: [inn_j..][epoch:  4, iter:   1,000, lr:(2.000e-05,)] [eta: 0:41:44, time (data): 0.277 (0.007)] l_l2: 2.0816e-03 \n",
      "2025-05-07 15:33:50,741 INFO: [inn_j..][epoch:  5, iter:   1,100, lr:(2.000e-05,)] [eta: 0:41:24, time (data): 0.279 (0.008)] l_l2: 1.2941e-03 \n",
      "2025-05-07 15:34:19,124 INFO: [inn_j..][epoch:  5, iter:   1,200, lr:(2.000e-05,)] [eta: 0:40:59, time (data): 0.281 (0.011)] l_l2: 1.3669e-03 \n",
      "2025-05-07 15:34:47,496 INFO: [inn_j..][epoch:  6, iter:   1,300, lr:(2.000e-05,)] [eta: 0:40:34, time (data): 0.277 (0.007)] l_l2: 1.3995e-03 \n",
      "2025-05-07 15:35:15,225 INFO: [inn_j..][epoch:  6, iter:   1,400, lr:(2.000e-05,)] [eta: 0:40:05, time (data): 0.277 (0.007)] l_l2: 1.5541e-03 \n",
      "2025-05-07 15:35:43,746 INFO: [inn_j..][epoch:  7, iter:   1,500, lr:(2.000e-05,)] [eta: 0:39:40, time (data): 0.277 (0.007)] l_l2: 1.6763e-03 \n",
      "2025-05-07 15:36:11,488 INFO: [inn_j..][epoch:  7, iter:   1,600, lr:(2.000e-05,)] [eta: 0:39:10, time (data): 0.277 (0.007)] l_l2: 1.5350e-03 \n",
      "2025-05-07 15:36:39,880 INFO: [inn_j..][epoch:  8, iter:   1,700, lr:(2.000e-05,)] [eta: 0:38:44, time (data): 0.277 (0.007)] l_l2: 1.1197e-03 \n",
      "2025-05-07 15:37:07,608 INFO: [inn_j..][epoch:  8, iter:   1,800, lr:(2.000e-05,)] [eta: 0:38:15, time (data): 0.277 (0.007)] l_l2: 1.1326e-03 \n",
      "2025-05-07 15:37:35,910 INFO: [inn_j..][epoch:  9, iter:   1,900, lr:(2.000e-05,)] [eta: 0:37:48, time (data): 0.276 (0.007)] l_l2: 1.3073e-03 \n",
      "2025-05-07 15:38:03,639 INFO: [inn_j..][epoch:  9, iter:   2,000, lr:(2.000e-05,)] [eta: 0:37:19, time (data): 0.277 (0.007)] l_l2: 1.7637e-03 \n",
      "2025-05-07 15:38:32,097 INFO: [inn_j..][epoch: 10, iter:   2,100, lr:(2.000e-05,)] [eta: 0:36:53, time (data): 0.277 (0.007)] l_l2: 1.2329e-03 \n",
      "2025-05-07 15:38:59,840 INFO: [inn_j..][epoch: 10, iter:   2,200, lr:(2.000e-05,)] [eta: 0:36:24, time (data): 0.277 (0.007)] l_l2: 1.4575e-03 \n",
      "2025-05-07 15:39:28,062 INFO: [inn_j..][epoch: 11, iter:   2,300, lr:(2.000e-05,)] [eta: 0:35:57, time (data): 0.276 (0.007)] l_l2: 1.1175e-03 \n",
      "2025-05-07 15:39:55,760 INFO: [inn_j..][epoch: 11, iter:   2,400, lr:(2.000e-05,)] [eta: 0:35:28, time (data): 0.277 (0.007)] l_l2: 1.1661e-03 \n",
      "2025-05-07 15:40:24,147 INFO: [inn_j..][epoch: 12, iter:   2,500, lr:(2.000e-05,)] [eta: 0:35:01, time (data): 0.277 (0.007)] l_l2: 1.0604e-03 \n",
      "2025-05-07 15:40:51,824 INFO: [inn_j..][epoch: 12, iter:   2,600, lr:(2.000e-05,)] [eta: 0:34:32, time (data): 0.277 (0.007)] l_l2: 1.4118e-03 \n",
      "2025-05-07 15:41:20,044 INFO: [inn_j..][epoch: 13, iter:   2,700, lr:(2.000e-05,)] [eta: 0:34:04, time (data): 0.276 (0.007)] l_l2: 1.5760e-03 \n",
      "2025-05-07 15:41:47,738 INFO: [inn_j..][epoch: 13, iter:   2,800, lr:(2.000e-05,)] [eta: 0:33:35, time (data): 0.277 (0.007)] l_l2: 1.8437e-03 \n",
      "2025-05-07 15:42:15,972 INFO: [inn_j..][epoch: 14, iter:   2,900, lr:(2.000e-05,)] [eta: 0:33:08, time (data): 0.275 (0.006)] l_l2: 1.3287e-03 \n",
      "2025-05-07 15:42:43,608 INFO: [inn_j..][epoch: 14, iter:   3,000, lr:(2.000e-05,)] [eta: 0:32:39, time (data): 0.276 (0.006)] l_l2: 1.1565e-03 \n",
      "2025-05-07 15:43:11,793 INFO: [inn_j..][epoch: 15, iter:   3,100, lr:(2.000e-05,)] [eta: 0:32:12, time (data): 0.275 (0.006)] l_l2: 1.4114e-03 \n",
      "2025-05-07 15:43:39,415 INFO: [inn_j..][epoch: 15, iter:   3,200, lr:(2.000e-05,)] [eta: 0:31:43, time (data): 0.276 (0.006)] l_l2: 1.4455e-03 \n",
      "2025-05-07 15:44:07,607 INFO: [inn_j..][epoch: 16, iter:   3,300, lr:(2.000e-05,)] [eta: 0:31:15, time (data): 0.276 (0.007)] l_l2: 1.0880e-03 \n",
      "2025-05-07 15:44:35,283 INFO: [inn_j..][epoch: 16, iter:   3,400, lr:(2.000e-05,)] [eta: 0:30:46, time (data): 0.276 (0.007)] l_l2: 9.8421e-04 \n",
      "2025-05-07 15:45:03,506 INFO: [inn_j..][epoch: 17, iter:   3,500, lr:(2.000e-05,)] [eta: 0:30:19, time (data): 0.276 (0.006)] l_l2: 1.5280e-03 \n",
      "2025-05-07 15:45:31,212 INFO: [inn_j..][epoch: 17, iter:   3,600, lr:(2.000e-05,)] [eta: 0:29:50, time (data): 0.276 (0.007)] l_l2: 1.0976e-03 \n",
      "2025-05-07 15:45:59,692 INFO: [inn_j..][epoch: 18, iter:   3,700, lr:(2.000e-05,)] [eta: 0:29:23, time (data): 0.276 (0.007)] l_l2: 1.5811e-03 \n",
      "2025-05-07 15:46:27,377 INFO: [inn_j..][epoch: 18, iter:   3,800, lr:(2.000e-05,)] [eta: 0:28:55, time (data): 0.276 (0.007)] l_l2: 1.1520e-03 \n",
      "2025-05-07 15:46:55,636 INFO: [inn_j..][epoch: 19, iter:   3,900, lr:(2.000e-05,)] [eta: 0:28:27, time (data): 0.276 (0.007)] l_l2: 1.2671e-03 \n",
      "2025-05-07 15:47:23,211 INFO: [inn_j..][epoch: 19, iter:   4,000, lr:(2.000e-05,)] [eta: 0:27:59, time (data): 0.276 (0.007)] l_l2: 1.1160e-03 \n",
      "2025-05-07 15:47:51,401 INFO: [inn_j..][epoch: 20, iter:   4,100, lr:(2.000e-05,)] [eta: 0:27:31, time (data): 0.276 (0.007)] l_l2: 1.0110e-03 \n",
      "2025-05-07 15:48:19,389 INFO: [inn_j..][epoch: 20, iter:   4,200, lr:(2.000e-05,)] [eta: 0:27:03, time (data): 0.278 (0.009)] l_l2: 1.2783e-03 \n",
      "2025-05-07 15:48:47,591 INFO: [inn_j..][epoch: 21, iter:   4,300, lr:(2.000e-05,)] [eta: 0:26:35, time (data): 0.275 (0.007)] l_l2: 1.0127e-03 \n",
      "2025-05-07 15:49:15,178 INFO: [inn_j..][epoch: 21, iter:   4,400, lr:(2.000e-05,)] [eta: 0:26:07, time (data): 0.276 (0.007)] l_l2: 9.3471e-04 \n",
      "2025-05-07 15:49:43,292 INFO: [inn_j..][epoch: 22, iter:   4,500, lr:(2.000e-05,)] [eta: 0:25:39, time (data): 0.274 (0.006)] l_l2: 1.3287e-03 \n",
      "2025-05-07 15:50:10,758 INFO: [inn_j..][epoch: 22, iter:   4,600, lr:(2.000e-05,)] [eta: 0:25:10, time (data): 0.274 (0.007)] l_l2: 1.6931e-03 \n",
      "2025-05-07 15:50:38,843 INFO: [inn_j..][epoch: 23, iter:   4,700, lr:(2.000e-05,)] [eta: 0:24:42, time (data): 0.274 (0.007)] l_l2: 1.3200e-03 \n",
      "2025-05-07 15:51:06,235 INFO: [inn_j..][epoch: 23, iter:   4,800, lr:(2.000e-05,)] [eta: 0:24:14, time (data): 0.274 (0.007)] l_l2: 1.1652e-03 \n",
      "2025-05-07 15:51:34,045 INFO: [inn_j..][epoch: 24, iter:   4,900, lr:(2.000e-05,)] [eta: 0:23:46, time (data): 0.272 (0.006)] l_l2: 8.8226e-04 \n",
      "2025-05-07 15:52:01,353 INFO: [inn_j..][epoch: 24, iter:   5,000, lr:(2.000e-05,)] [eta: 0:23:17, time (data): 0.272 (0.007)] l_l2: 1.4461e-03 \n",
      "2025-05-07 15:52:01,355 INFO: Saving models and training states.\n",
      "2025-05-07 15:52:50,825 INFO: Validation FFHQJPEGVal\n",
      "\t # psnr: 29.2112\tBest: 29.2112 @ 5000 iter\n",
      "\t # niqe: 5.7157\tBest: 5.7157 @ 5000 iter\n",
      "\n",
      "2025-05-07 15:53:18,462 INFO: [inn_j..][epoch: 25, iter:   5,100, lr:(2.000e-05,)] [eta: 0:23:36, time (data): 0.268 (0.006)] l_l2: 1.5828e-03 \n",
      "2025-05-07 15:53:45,519 INFO: [inn_j..][epoch: 25, iter:   5,200, lr:(2.000e-05,)] [eta: 0:23:06, time (data): 0.269 (0.007)] l_l2: 1.0000e-03 \n",
      "2025-05-07 15:54:13,314 INFO: [inn_j..][epoch: 26, iter:   5,300, lr:(2.000e-05,)] [eta: 0:22:36, time (data): 0.271 (0.007)] l_l2: 1.1484e-03 \n",
      "2025-05-07 15:54:40,473 INFO: [inn_j..][epoch: 26, iter:   5,400, lr:(2.000e-05,)] [eta: 0:22:05, time (data): 0.271 (0.007)] l_l2: 1.1239e-03 \n",
      "2025-05-07 15:55:08,056 INFO: [inn_j..][epoch: 27, iter:   5,500, lr:(2.000e-05,)] [eta: 0:21:36, time (data): 0.270 (0.006)] l_l2: 1.2149e-03 \n",
      "2025-05-07 15:55:35,113 INFO: [inn_j..][epoch: 27, iter:   5,600, lr:(2.000e-05,)] [eta: 0:21:05, time (data): 0.270 (0.006)] l_l2: 1.2279e-03 \n",
      "2025-05-07 15:56:02,920 INFO: [inn_j..][epoch: 28, iter:   5,700, lr:(2.000e-05,)] [eta: 0:20:36, time (data): 0.271 (0.007)] l_l2: 1.2165e-03 \n",
      "2025-05-07 15:56:29,859 INFO: [inn_j..][epoch: 28, iter:   5,800, lr:(2.000e-05,)] [eta: 0:20:06, time (data): 0.270 (0.006)] l_l2: 1.3668e-03 \n",
      "2025-05-07 15:56:57,478 INFO: [inn_j..][epoch: 29, iter:   5,900, lr:(2.000e-05,)] [eta: 0:19:36, time (data): 0.270 (0.006)] l_l2: 1.1729e-03 \n",
      "2025-05-07 15:57:24,555 INFO: [inn_j..][epoch: 29, iter:   6,000, lr:(2.000e-05,)] [eta: 0:19:06, time (data): 0.270 (0.006)] l_l2: 2.0886e-03 \n",
      "2025-05-07 15:57:52,219 INFO: [inn_j..][epoch: 30, iter:   6,100, lr:(2.000e-05,)] [eta: 0:18:37, time (data): 0.271 (0.006)] l_l2: 1.3986e-03 \n",
      "2025-05-07 15:58:19,375 INFO: [inn_j..][epoch: 30, iter:   6,200, lr:(2.000e-05,)] [eta: 0:18:08, time (data): 0.271 (0.007)] l_l2: 1.3934e-03 \n",
      "2025-05-07 15:58:47,176 INFO: [inn_j..][epoch: 31, iter:   6,300, lr:(2.000e-05,)] [eta: 0:17:38, time (data): 0.271 (0.007)] l_l2: 1.2052e-03 \n",
      "2025-05-07 15:59:14,322 INFO: [inn_j..][epoch: 31, iter:   6,400, lr:(2.000e-05,)] [eta: 0:17:09, time (data): 0.271 (0.007)] l_l2: 1.2869e-03 \n",
      "2025-05-07 15:59:41,988 INFO: [inn_j..][epoch: 32, iter:   6,500, lr:(2.000e-05,)] [eta: 0:16:40, time (data): 0.271 (0.007)] l_l2: 1.4180e-03 \n",
      "2025-05-07 16:00:09,108 INFO: [inn_j..][epoch: 32, iter:   6,600, lr:(2.000e-05,)] [eta: 0:16:11, time (data): 0.271 (0.007)] l_l2: 1.6973e-03 \n",
      "2025-05-07 16:00:36,845 INFO: [inn_j..][epoch: 33, iter:   6,700, lr:(2.000e-05,)] [eta: 0:15:42, time (data): 0.271 (0.007)] l_l2: 1.2397e-03 \n",
      "2025-05-07 16:01:03,969 INFO: [inn_j..][epoch: 33, iter:   6,800, lr:(2.000e-05,)] [eta: 0:15:12, time (data): 0.271 (0.007)] l_l2: 1.1862e-03 \n",
      "2025-05-07 16:01:31,710 INFO: [inn_j..][epoch: 34, iter:   6,900, lr:(2.000e-05,)] [eta: 0:14:43, time (data): 0.271 (0.007)] l_l2: 1.4240e-03 \n",
      "2025-05-07 16:01:58,728 INFO: [inn_j..][epoch: 34, iter:   7,000, lr:(2.000e-05,)] [eta: 0:14:14, time (data): 0.270 (0.007)] l_l2: 1.1691e-03 \n",
      "2025-05-07 16:02:26,402 INFO: [inn_j..][epoch: 35, iter:   7,100, lr:(2.000e-05,)] [eta: 0:13:45, time (data): 0.272 (0.007)] l_l2: 1.2692e-03 \n",
      "2025-05-07 16:02:53,587 INFO: [inn_j..][epoch: 35, iter:   7,200, lr:(2.000e-05,)] [eta: 0:13:16, time (data): 0.272 (0.007)] l_l2: 2.2108e-03 \n",
      "2025-05-07 16:03:21,350 INFO: [inn_j..][epoch: 36, iter:   7,300, lr:(2.000e-05,)] [eta: 0:12:48, time (data): 0.271 (0.007)] l_l2: 1.7093e-03 \n",
      "2025-05-07 16:03:48,421 INFO: [inn_j..][epoch: 36, iter:   7,400, lr:(2.000e-05,)] [eta: 0:12:19, time (data): 0.271 (0.007)] l_l2: 1.2285e-03 \n",
      "2025-05-07 16:04:15,986 INFO: [inn_j..][epoch: 37, iter:   7,500, lr:(2.000e-05,)] [eta: 0:11:50, time (data): 0.270 (0.007)] l_l2: 1.7993e-03 \n",
      "2025-05-07 16:04:43,012 INFO: [inn_j..][epoch: 37, iter:   7,600, lr:(2.000e-05,)] [eta: 0:11:21, time (data): 0.270 (0.007)] l_l2: 1.5256e-03 \n",
      "2025-05-07 16:05:10,546 INFO: [inn_j..][epoch: 38, iter:   7,700, lr:(2.000e-05,)] [eta: 0:10:52, time (data): 0.270 (0.006)] l_l2: 1.5935e-03 \n",
      "2025-05-07 16:05:37,514 INFO: [inn_j..][epoch: 38, iter:   7,800, lr:(2.000e-05,)] [eta: 0:10:24, time (data): 0.270 (0.007)] l_l2: 1.3239e-03 \n",
      "2025-05-07 16:06:05,146 INFO: [inn_j..][epoch: 39, iter:   7,900, lr:(2.000e-05,)] [eta: 0:09:55, time (data): 0.269 (0.006)] l_l2: 1.3656e-03 \n",
      "2025-05-07 16:06:31,968 INFO: [inn_j..][epoch: 39, iter:   8,000, lr:(2.000e-05,)] [eta: 0:09:26, time (data): 0.268 (0.006)] l_l2: 1.3189e-03 \n",
      "2025-05-07 16:06:59,562 INFO: [inn_j..][epoch: 40, iter:   8,100, lr:(2.000e-05,)] [eta: 0:08:58, time (data): 0.270 (0.007)] l_l2: 1.3898e-03 \n",
      "2025-05-07 16:07:26,633 INFO: [inn_j..][epoch: 40, iter:   8,200, lr:(2.000e-05,)] [eta: 0:08:29, time (data): 0.271 (0.007)] l_l2: 1.1811e-03 \n",
      "2025-05-07 16:07:54,229 INFO: [inn_j..][epoch: 41, iter:   8,300, lr:(2.000e-05,)] [eta: 0:08:01, time (data): 0.270 (0.007)] l_l2: 1.5641e-03 \n",
      "2025-05-07 16:08:21,235 INFO: [inn_j..][epoch: 41, iter:   8,400, lr:(2.000e-05,)] [eta: 0:07:32, time (data): 0.270 (0.007)] l_l2: 1.2612e-03 \n",
      "2025-05-07 16:08:48,756 INFO: [inn_j..][epoch: 42, iter:   8,500, lr:(2.000e-05,)] [eta: 0:07:04, time (data): 0.269 (0.006)] l_l2: 1.3495e-03 \n",
      "2025-05-07 16:09:15,767 INFO: [inn_j..][epoch: 42, iter:   8,600, lr:(2.000e-05,)] [eta: 0:06:35, time (data): 0.270 (0.007)] l_l2: 1.5179e-03 \n",
      "2025-05-07 16:09:43,273 INFO: [inn_j..][epoch: 43, iter:   8,700, lr:(2.000e-05,)] [eta: 0:06:07, time (data): 0.269 (0.007)] l_l2: 1.4487e-03 \n",
      "2025-05-07 16:10:10,252 INFO: [inn_j..][epoch: 43, iter:   8,800, lr:(2.000e-05,)] [eta: 0:05:38, time (data): 0.269 (0.007)] l_l2: 1.2803e-03 \n",
      "2025-05-07 16:10:37,857 INFO: [inn_j..][epoch: 44, iter:   8,900, lr:(2.000e-05,)] [eta: 0:05:10, time (data): 0.270 (0.007)] l_l2: 1.1916e-03 \n",
      "2025-05-07 16:11:04,878 INFO: [inn_j..][epoch: 44, iter:   9,000, lr:(2.000e-05,)] [eta: 0:04:42, time (data): 0.270 (0.007)] l_l2: 1.8661e-03 \n",
      "2025-05-07 16:11:32,478 INFO: [inn_j..][epoch: 45, iter:   9,100, lr:(2.000e-05,)] [eta: 0:04:13, time (data): 0.270 (0.007)] l_l2: 1.4735e-03 \n",
      "2025-05-07 16:11:59,438 INFO: [inn_j..][epoch: 45, iter:   9,200, lr:(2.000e-05,)] [eta: 0:03:45, time (data): 0.270 (0.007)] l_l2: 1.5267e-03 \n",
      "2025-05-07 16:12:26,973 INFO: [inn_j..][epoch: 46, iter:   9,300, lr:(2.000e-05,)] [eta: 0:03:17, time (data): 0.269 (0.006)] l_l2: 1.5331e-03 \n",
      "2025-05-07 16:12:53,966 INFO: [inn_j..][epoch: 46, iter:   9,400, lr:(2.000e-05,)] [eta: 0:02:48, time (data): 0.270 (0.007)] l_l2: 1.0589e-03 \n",
      "2025-05-07 16:13:21,553 INFO: [inn_j..][epoch: 47, iter:   9,500, lr:(2.000e-05,)] [eta: 0:02:20, time (data): 0.270 (0.007)] l_l2: 1.5384e-03 \n",
      "2025-05-07 16:13:48,469 INFO: [inn_j..][epoch: 47, iter:   9,600, lr:(2.000e-05,)] [eta: 0:01:52, time (data): 0.269 (0.007)] l_l2: 1.1897e-03 \n",
      "2025-05-07 16:14:15,990 INFO: [inn_j..][epoch: 48, iter:   9,700, lr:(2.000e-05,)] [eta: 0:01:24, time (data): 0.270 (0.007)] l_l2: 1.7306e-03 \n",
      "2025-05-07 16:14:42,864 INFO: [inn_j..][epoch: 48, iter:   9,800, lr:(2.000e-05,)] [eta: 0:00:56, time (data): 0.269 (0.007)] l_l2: 1.3049e-03 \n",
      "2025-05-07 16:15:10,311 INFO: [inn_j..][epoch: 49, iter:   9,900, lr:(2.000e-05,)] [eta: 0:00:27, time (data): 0.269 (0.006)] l_l2: 1.6394e-03 \n",
      "2025-05-07 16:15:37,189 INFO: [inn_j..][epoch: 49, iter:  10,000, lr:(2.000e-05,)] [eta: 0:00:00, time (data): 0.269 (0.006)] l_l2: 1.2764e-03 \n",
      "2025-05-07 16:15:37,190 INFO: Saving models and training states.\n",
      "2025-05-07 16:16:26,181 INFO: Validation FFHQJPEGVal\n",
      "\t # psnr: 28.8221\tBest: 29.2112 @ 5000 iter\n",
      "\t # niqe: 5.5506\tBest: 5.7157 @ 5000 iter\n",
      "\n",
      "2025-05-07 16:16:26,917 INFO: End of training. Time consumed: 0:47:47\n",
      "2025-05-07 16:16:26,918 INFO: Save the latest model.\n",
      "2025-05-07 16:17:11,862 INFO: Validation FFHQJPEGVal\n",
      "\t # psnr: 28.8221\tBest: 29.2112 @ 5000 iter\n",
      "\t # niqe: 5.5506\tBest: 5.7157 @ 5000 iter\n",
      "\n"
     ]
    }
   ],
   "source": [
    "%run inn/train.py -opt inn/options/cinn_jpeg_qf50_option.yaml"
   ]
  },
  {
   "cell_type": "code",
   "execution_count": 1,
   "metadata": {},
   "outputs": [
    {
     "name": "stdout",
     "output_type": "stream",
     "text": [
      "Setting random seed 12345\n"
     ]
    },
    {
     "name": "stderr",
     "output_type": "stream",
     "text": [
      "/rds/general/user/aem21/home/FYP/compression_indigo_plus/sampler.py:87: FutureWarning: You are using `torch.load` with `weights_only=False` (the current default value), which uses the default pickle module implicitly. It is possible to construct malicious pickle data which will execute arbitrary code during unpickling (See https://github.com/pytorch/pytorch/blob/main/SECURITY.md#untrusted-models for more details). In a future release, the default value for `weights_only` will be flipped to `True`. This limits the functions that could be executed during unpickling. Arbitrary objects will no longer be allowed to be loaded via this mode unless they are explicitly allowlisted by the user via `torch.serialization.add_safe_globals`. We recommend you start setting `weights_only=True` for any use case where you don't have full control of the loaded file. Please open an issue on GitHub for any issues related to this experimental feature.\n",
      "  ckpt = torch.load(ckpt_path, map_location=f\"cuda:{self.rank}\")\n"
     ]
    },
    {
     "name": "stdout",
     "output_type": "stream",
     "text": [
      "Loaded Done\n"
     ]
    },
    {
     "name": "stderr",
     "output_type": "stream",
     "text": [
      "/rds/general/user/aem21/home/miniforge3/envs/indigo_v2/lib/python3.12/site-packages/tqdm/auto.py:21: TqdmWarning: IProgress not found. Please update jupyter and ipywidgets. See https://ipywidgets.readthedocs.io/en/stable/user_install.html\n",
      "  from .autonotebook import tqdm as notebook_tqdm\n"
     ]
    },
    {
     "name": "stdout",
     "output_type": "stream",
     "text": [
      "Loading pretrained model LPIPS from /rds/general/user/aem21/home/.cache/torch/hub/pyiqa/LPIPS_v0.1_alex-df73285e.pth\n"
     ]
    },
    {
     "name": "stderr",
     "output_type": "stream",
     "text": [
      "/rds/general/user/aem21/home/miniforge3/envs/indigo_v2/lib/python3.12/site-packages/timm/models/layers/__init__.py:48: FutureWarning: Importing from timm.models.layers is deprecated, please import via timm.layers\n",
      "  warnings.warn(f\"Importing from {__name__} is deprecated, please import via timm.layers\", FutureWarning)\n",
      "/rds/general/user/aem21/home/miniforge3/envs/indigo_v2/lib/python3.12/site-packages/torch/functional.py:534: UserWarning: torch.meshgrid: in an upcoming release, it will be required to pass the indexing argument. (Triggered internally at ../aten/src/ATen/native/TensorShape.cpp:3595.)\n",
      "  return _VF.meshgrid(tensors, **kwargs)  # type: ignore[attr-defined]\n",
      "/rds/general/user/aem21/home/FYP/compression_indigo_plus/sampler.py:87: FutureWarning: You are using `torch.load` with `weights_only=False` (the current default value), which uses the default pickle module implicitly. It is possible to construct malicious pickle data which will execute arbitrary code during unpickling (See https://github.com/pytorch/pytorch/blob/main/SECURITY.md#untrusted-models for more details). In a future release, the default value for `weights_only` will be flipped to `True`. This limits the functions that could be executed during unpickling. Arbitrary objects will no longer be allowed to be loaded via this mode unless they are explicitly allowlisted by the user via `torch.serialization.add_safe_globals`. We recommend you start setting `weights_only=True` for any use case where you don't have full control of the loaded file. Please open an issue on GitHub for any issues related to this experimental feature.\n",
      "  ckpt = torch.load(ckpt_path, map_location=f\"cuda:{self.rank}\")\n"
     ]
    },
    {
     "name": "stdout",
     "output_type": "stream",
     "text": [
      "Loaded Done\n",
      "Loaded Done\n",
      "Number of testing images: 100\n"
     ]
    },
    {
     "name": "stderr",
     "output_type": "stream",
     "text": [
      "  1%|          | 1/100 [00:20<33:40, 20.41s/it]"
     ]
    },
    {
     "name": "stdout",
     "output_type": "stream",
     "text": [
      "Runtime: 20.10 seconds\n"
     ]
    },
    {
     "name": "stderr",
     "output_type": "stream",
     "text": [
      "  2%|▏         | 2/100 [00:35<28:13, 17.28s/it]"
     ]
    },
    {
     "name": "stdout",
     "output_type": "stream",
     "text": [
      "Runtime: 15.03 seconds\n"
     ]
    },
    {
     "name": "stderr",
     "output_type": "stream",
     "text": [
      "  3%|▎         | 3/100 [00:50<26:20, 16.29s/it]"
     ]
    },
    {
     "name": "stdout",
     "output_type": "stream",
     "text": [
      "Runtime: 15.05 seconds\n"
     ]
    },
    {
     "name": "stderr",
     "output_type": "stream",
     "text": [
      "  4%|▍         | 4/100 [01:05<25:18, 15.82s/it]"
     ]
    },
    {
     "name": "stdout",
     "output_type": "stream",
     "text": [
      "Runtime: 15.03 seconds\n"
     ]
    },
    {
     "name": "stderr",
     "output_type": "stream",
     "text": [
      "  5%|▌         | 5/100 [01:20<24:39, 15.58s/it]"
     ]
    },
    {
     "name": "stdout",
     "output_type": "stream",
     "text": [
      "Runtime: 15.10 seconds\n"
     ]
    },
    {
     "name": "stderr",
     "output_type": "stream",
     "text": [
      "  6%|▌         | 6/100 [01:35<24:09, 15.42s/it]"
     ]
    },
    {
     "name": "stdout",
     "output_type": "stream",
     "text": [
      "Runtime: 15.05 seconds\n"
     ]
    },
    {
     "name": "stderr",
     "output_type": "stream",
     "text": [
      "  7%|▋         | 7/100 [01:51<23:43, 15.31s/it]"
     ]
    },
    {
     "name": "stdout",
     "output_type": "stream",
     "text": [
      "Runtime: 15.03 seconds\n"
     ]
    },
    {
     "name": "stderr",
     "output_type": "stream",
     "text": [
      "  8%|▊         | 8/100 [02:06<23:23, 15.26s/it]"
     ]
    },
    {
     "name": "stdout",
     "output_type": "stream",
     "text": [
      "Runtime: 15.08 seconds\n"
     ]
    },
    {
     "name": "stderr",
     "output_type": "stream",
     "text": [
      "  9%|▉         | 9/100 [02:21<23:09, 15.27s/it]"
     ]
    },
    {
     "name": "stdout",
     "output_type": "stream",
     "text": [
      "Runtime: 15.24 seconds\n"
     ]
    },
    {
     "name": "stderr",
     "output_type": "stream",
     "text": [
      " 10%|█         | 10/100 [02:36<22:48, 15.20s/it]"
     ]
    },
    {
     "name": "stdout",
     "output_type": "stream",
     "text": [
      "Runtime: 14.98 seconds\n"
     ]
    },
    {
     "name": "stderr",
     "output_type": "stream",
     "text": [
      " 11%|█         | 11/100 [02:51<22:20, 15.06s/it]"
     ]
    },
    {
     "name": "stdout",
     "output_type": "stream",
     "text": [
      "Runtime: 14.67 seconds\n"
     ]
    },
    {
     "name": "stderr",
     "output_type": "stream",
     "text": [
      " 12%|█▏        | 12/100 [03:06<21:57, 14.97s/it]"
     ]
    },
    {
     "name": "stdout",
     "output_type": "stream",
     "text": [
      "Runtime: 14.69 seconds\n"
     ]
    },
    {
     "name": "stderr",
     "output_type": "stream",
     "text": [
      " 13%|█▎        | 13/100 [03:20<21:37, 14.91s/it]"
     ]
    },
    {
     "name": "stdout",
     "output_type": "stream",
     "text": [
      "Runtime: 14.72 seconds\n"
     ]
    },
    {
     "name": "stderr",
     "output_type": "stream",
     "text": [
      " 14%|█▍        | 14/100 [03:35<21:18, 14.87s/it]"
     ]
    },
    {
     "name": "stdout",
     "output_type": "stream",
     "text": [
      "Runtime: 14.72 seconds\n"
     ]
    },
    {
     "name": "stderr",
     "output_type": "stream",
     "text": [
      " 15%|█▌        | 15/100 [03:50<21:01, 14.84s/it]"
     ]
    },
    {
     "name": "stdout",
     "output_type": "stream",
     "text": [
      "Runtime: 14.72 seconds\n"
     ]
    },
    {
     "name": "stderr",
     "output_type": "stream",
     "text": [
      " 16%|█▌        | 16/100 [04:05<20:43, 14.81s/it]"
     ]
    },
    {
     "name": "stdout",
     "output_type": "stream",
     "text": [
      "Runtime: 14.66 seconds\n"
     ]
    },
    {
     "name": "stderr",
     "output_type": "stream",
     "text": [
      " 17%|█▋        | 17/100 [04:19<20:28, 14.80s/it]"
     ]
    },
    {
     "name": "stdout",
     "output_type": "stream",
     "text": [
      "Runtime: 14.71 seconds\n"
     ]
    },
    {
     "name": "stderr",
     "output_type": "stream",
     "text": [
      " 18%|█▊        | 18/100 [04:34<20:13, 14.79s/it]"
     ]
    },
    {
     "name": "stdout",
     "output_type": "stream",
     "text": [
      "Runtime: 14.72 seconds\n"
     ]
    },
    {
     "name": "stderr",
     "output_type": "stream",
     "text": [
      " 19%|█▉        | 19/100 [04:49<19:57, 14.79s/it]"
     ]
    },
    {
     "name": "stdout",
     "output_type": "stream",
     "text": [
      "Runtime: 14.72 seconds\n"
     ]
    },
    {
     "name": "stderr",
     "output_type": "stream",
     "text": [
      " 20%|██        | 20/100 [05:04<19:43, 14.79s/it]"
     ]
    },
    {
     "name": "stdout",
     "output_type": "stream",
     "text": [
      "Runtime: 14.73 seconds\n"
     ]
    },
    {
     "name": "stderr",
     "output_type": "stream",
     "text": [
      " 21%|██        | 21/100 [05:19<19:28, 14.79s/it]"
     ]
    },
    {
     "name": "stdout",
     "output_type": "stream",
     "text": [
      "Runtime: 14.73 seconds\n"
     ]
    },
    {
     "name": "stderr",
     "output_type": "stream",
     "text": [
      " 22%|██▏       | 22/100 [05:33<19:12, 14.78s/it]"
     ]
    },
    {
     "name": "stdout",
     "output_type": "stream",
     "text": [
      "Runtime: 14.72 seconds\n"
     ]
    },
    {
     "name": "stderr",
     "output_type": "stream",
     "text": [
      " 23%|██▎       | 23/100 [05:48<18:58, 14.78s/it]"
     ]
    },
    {
     "name": "stdout",
     "output_type": "stream",
     "text": [
      "Runtime: 14.72 seconds\n"
     ]
    },
    {
     "name": "stderr",
     "output_type": "stream",
     "text": [
      " 24%|██▍       | 24/100 [06:03<18:42, 14.77s/it]"
     ]
    },
    {
     "name": "stdout",
     "output_type": "stream",
     "text": [
      "Runtime: 14.69 seconds\n"
     ]
    },
    {
     "name": "stderr",
     "output_type": "stream",
     "text": [
      " 25%|██▌       | 25/100 [06:18<18:27, 14.76s/it]"
     ]
    },
    {
     "name": "stdout",
     "output_type": "stream",
     "text": [
      "Runtime: 14.70 seconds\n"
     ]
    },
    {
     "name": "stderr",
     "output_type": "stream",
     "text": [
      " 26%|██▌       | 26/100 [06:33<18:18, 14.85s/it]"
     ]
    },
    {
     "name": "stdout",
     "output_type": "stream",
     "text": [
      "Runtime: 14.99 seconds\n"
     ]
    },
    {
     "name": "stderr",
     "output_type": "stream",
     "text": [
      " 27%|██▋       | 27/100 [06:47<18:02, 14.82s/it]"
     ]
    },
    {
     "name": "stdout",
     "output_type": "stream",
     "text": [
      "Runtime: 14.71 seconds\n"
     ]
    },
    {
     "name": "stderr",
     "output_type": "stream",
     "text": [
      " 28%|██▊       | 28/100 [07:02<17:48, 14.84s/it]"
     ]
    },
    {
     "name": "stdout",
     "output_type": "stream",
     "text": [
      "Runtime: 14.71 seconds\n"
     ]
    },
    {
     "name": "stderr",
     "output_type": "stream",
     "text": [
      " 29%|██▉       | 29/100 [07:17<17:32, 14.82s/it]"
     ]
    },
    {
     "name": "stdout",
     "output_type": "stream",
     "text": [
      "Runtime: 14.72 seconds\n"
     ]
    },
    {
     "name": "stderr",
     "output_type": "stream",
     "text": [
      " 30%|███       | 30/100 [07:32<17:16, 14.80s/it]"
     ]
    },
    {
     "name": "stdout",
     "output_type": "stream",
     "text": [
      "Runtime: 14.72 seconds\n"
     ]
    },
    {
     "name": "stderr",
     "output_type": "stream",
     "text": [
      " 31%|███       | 31/100 [07:47<17:00, 14.79s/it]"
     ]
    },
    {
     "name": "stdout",
     "output_type": "stream",
     "text": [
      "Runtime: 14.72 seconds\n"
     ]
    },
    {
     "name": "stderr",
     "output_type": "stream",
     "text": [
      " 32%|███▏      | 32/100 [08:01<16:47, 14.82s/it]"
     ]
    },
    {
     "name": "stdout",
     "output_type": "stream",
     "text": [
      "Runtime: 14.79 seconds\n"
     ]
    },
    {
     "name": "stderr",
     "output_type": "stream",
     "text": [
      " 33%|███▎      | 33/100 [08:16<16:32, 14.82s/it]"
     ]
    },
    {
     "name": "stdout",
     "output_type": "stream",
     "text": [
      "Runtime: 14.75 seconds\n"
     ]
    },
    {
     "name": "stderr",
     "output_type": "stream",
     "text": [
      " 34%|███▍      | 34/100 [08:31<16:18, 14.83s/it]"
     ]
    },
    {
     "name": "stdout",
     "output_type": "stream",
     "text": [
      "Runtime: 14.79 seconds\n"
     ]
    },
    {
     "name": "stderr",
     "output_type": "stream",
     "text": [
      " 35%|███▌      | 35/100 [08:46<16:04, 14.83s/it]"
     ]
    },
    {
     "name": "stdout",
     "output_type": "stream",
     "text": [
      "Runtime: 14.79 seconds\n"
     ]
    },
    {
     "name": "stderr",
     "output_type": "stream",
     "text": [
      " 36%|███▌      | 36/100 [09:01<15:49, 14.83s/it]"
     ]
    },
    {
     "name": "stdout",
     "output_type": "stream",
     "text": [
      "Runtime: 14.80 seconds\n"
     ]
    },
    {
     "name": "stderr",
     "output_type": "stream",
     "text": [
      " 37%|███▋      | 37/100 [09:16<15:34, 14.83s/it]"
     ]
    },
    {
     "name": "stdout",
     "output_type": "stream",
     "text": [
      "Runtime: 14.78 seconds\n"
     ]
    },
    {
     "name": "stderr",
     "output_type": "stream",
     "text": [
      " 38%|███▊      | 38/100 [09:30<15:19, 14.83s/it]"
     ]
    },
    {
     "name": "stdout",
     "output_type": "stream",
     "text": [
      "Runtime: 14.75 seconds\n"
     ]
    },
    {
     "name": "stderr",
     "output_type": "stream",
     "text": [
      " 39%|███▉      | 39/100 [09:45<15:05, 14.84s/it]"
     ]
    },
    {
     "name": "stdout",
     "output_type": "stream",
     "text": [
      "Runtime: 14.80 seconds\n"
     ]
    },
    {
     "name": "stderr",
     "output_type": "stream",
     "text": [
      " 40%|████      | 40/100 [10:00<14:50, 14.85s/it]"
     ]
    },
    {
     "name": "stdout",
     "output_type": "stream",
     "text": [
      "Runtime: 14.80 seconds\n"
     ]
    },
    {
     "name": "stderr",
     "output_type": "stream",
     "text": [
      " 41%|████      | 41/100 [10:15<14:35, 14.85s/it]"
     ]
    },
    {
     "name": "stdout",
     "output_type": "stream",
     "text": [
      "Runtime: 14.79 seconds\n"
     ]
    },
    {
     "name": "stderr",
     "output_type": "stream",
     "text": [
      " 42%|████▏     | 42/100 [10:30<14:25, 14.92s/it]"
     ]
    },
    {
     "name": "stdout",
     "output_type": "stream",
     "text": [
      "Runtime: 15.05 seconds\n"
     ]
    },
    {
     "name": "stderr",
     "output_type": "stream",
     "text": [
      " 43%|████▎     | 43/100 [10:45<14:08, 14.88s/it]"
     ]
    },
    {
     "name": "stdout",
     "output_type": "stream",
     "text": [
      "Runtime: 14.73 seconds\n"
     ]
    },
    {
     "name": "stderr",
     "output_type": "stream",
     "text": [
      " 44%|████▍     | 44/100 [11:00<13:50, 14.83s/it]"
     ]
    },
    {
     "name": "stdout",
     "output_type": "stream",
     "text": [
      "Runtime: 14.64 seconds\n"
     ]
    },
    {
     "name": "stderr",
     "output_type": "stream",
     "text": [
      " 45%|████▌     | 45/100 [11:14<13:33, 14.80s/it]"
     ]
    },
    {
     "name": "stdout",
     "output_type": "stream",
     "text": [
      "Runtime: 14.69 seconds\n"
     ]
    },
    {
     "name": "stderr",
     "output_type": "stream",
     "text": [
      " 46%|████▌     | 46/100 [11:29<13:18, 14.78s/it]"
     ]
    },
    {
     "name": "stdout",
     "output_type": "stream",
     "text": [
      "Runtime: 14.71 seconds\n"
     ]
    },
    {
     "name": "stderr",
     "output_type": "stream",
     "text": [
      " 47%|████▋     | 47/100 [11:44<13:03, 14.77s/it]"
     ]
    },
    {
     "name": "stdout",
     "output_type": "stream",
     "text": [
      "Runtime: 14.70 seconds\n"
     ]
    },
    {
     "name": "stderr",
     "output_type": "stream",
     "text": [
      " 48%|████▊     | 48/100 [11:59<12:48, 14.77s/it]"
     ]
    },
    {
     "name": "stdout",
     "output_type": "stream",
     "text": [
      "Runtime: 14.71 seconds\n"
     ]
    },
    {
     "name": "stderr",
     "output_type": "stream",
     "text": [
      " 49%|████▉     | 49/100 [12:13<12:33, 14.77s/it]"
     ]
    },
    {
     "name": "stdout",
     "output_type": "stream",
     "text": [
      "Runtime: 14.71 seconds\n"
     ]
    },
    {
     "name": "stderr",
     "output_type": "stream",
     "text": [
      " 50%|█████     | 50/100 [12:28<12:18, 14.77s/it]"
     ]
    },
    {
     "name": "stdout",
     "output_type": "stream",
     "text": [
      "Runtime: 14.70 seconds\n"
     ]
    },
    {
     "name": "stderr",
     "output_type": "stream",
     "text": [
      " 51%|█████     | 51/100 [12:43<12:04, 14.79s/it]"
     ]
    },
    {
     "name": "stdout",
     "output_type": "stream",
     "text": [
      "Runtime: 14.72 seconds\n"
     ]
    },
    {
     "name": "stderr",
     "output_type": "stream",
     "text": [
      " 52%|█████▏    | 52/100 [12:58<11:49, 14.78s/it]"
     ]
    },
    {
     "name": "stdout",
     "output_type": "stream",
     "text": [
      "Runtime: 14.72 seconds\n"
     ]
    },
    {
     "name": "stderr",
     "output_type": "stream",
     "text": [
      " 53%|█████▎    | 53/100 [13:12<11:34, 14.78s/it]"
     ]
    },
    {
     "name": "stdout",
     "output_type": "stream",
     "text": [
      "Runtime: 14.72 seconds\n"
     ]
    },
    {
     "name": "stderr",
     "output_type": "stream",
     "text": [
      " 54%|█████▍    | 54/100 [13:27<11:19, 14.78s/it]"
     ]
    },
    {
     "name": "stdout",
     "output_type": "stream",
     "text": [
      "Runtime: 14.71 seconds\n"
     ]
    },
    {
     "name": "stderr",
     "output_type": "stream",
     "text": [
      " 55%|█████▌    | 55/100 [13:42<11:04, 14.77s/it]"
     ]
    },
    {
     "name": "stdout",
     "output_type": "stream",
     "text": [
      "Runtime: 14.71 seconds\n"
     ]
    },
    {
     "name": "stderr",
     "output_type": "stream",
     "text": [
      " 56%|█████▌    | 56/100 [13:57<10:49, 14.76s/it]"
     ]
    },
    {
     "name": "stdout",
     "output_type": "stream",
     "text": [
      "Runtime: 14.67 seconds\n"
     ]
    },
    {
     "name": "stderr",
     "output_type": "stream",
     "text": [
      " 57%|█████▋    | 57/100 [14:11<10:34, 14.75s/it]"
     ]
    },
    {
     "name": "stdout",
     "output_type": "stream",
     "text": [
      "Runtime: 14.67 seconds\n"
     ]
    },
    {
     "name": "stderr",
     "output_type": "stream",
     "text": [
      " 58%|█████▊    | 58/100 [14:26<10:21, 14.80s/it]"
     ]
    },
    {
     "name": "stdout",
     "output_type": "stream",
     "text": [
      "Runtime: 14.88 seconds\n"
     ]
    },
    {
     "name": "stderr",
     "output_type": "stream",
     "text": [
      " 59%|█████▉    | 59/100 [14:41<10:06, 14.79s/it]"
     ]
    },
    {
     "name": "stdout",
     "output_type": "stream",
     "text": [
      "Runtime: 14.71 seconds\n"
     ]
    },
    {
     "name": "stderr",
     "output_type": "stream",
     "text": [
      " 60%|██████    | 60/100 [14:56<09:51, 14.78s/it]"
     ]
    },
    {
     "name": "stdout",
     "output_type": "stream",
     "text": [
      "Runtime: 14.71 seconds\n"
     ]
    },
    {
     "name": "stderr",
     "output_type": "stream",
     "text": [
      " 61%|██████    | 61/100 [15:11<09:37, 14.81s/it]"
     ]
    },
    {
     "name": "stdout",
     "output_type": "stream",
     "text": [
      "Runtime: 14.82 seconds\n"
     ]
    },
    {
     "name": "stderr",
     "output_type": "stream",
     "text": [
      " 62%|██████▏   | 62/100 [15:26<09:23, 14.82s/it]"
     ]
    },
    {
     "name": "stdout",
     "output_type": "stream",
     "text": [
      "Runtime: 14.80 seconds\n"
     ]
    },
    {
     "name": "stderr",
     "output_type": "stream",
     "text": [
      " 63%|██████▎   | 63/100 [15:41<09:08, 14.83s/it]"
     ]
    },
    {
     "name": "stdout",
     "output_type": "stream",
     "text": [
      "Runtime: 14.80 seconds\n"
     ]
    },
    {
     "name": "stderr",
     "output_type": "stream",
     "text": [
      " 64%|██████▍   | 64/100 [15:55<08:53, 14.81s/it]"
     ]
    },
    {
     "name": "stdout",
     "output_type": "stream",
     "text": [
      "Runtime: 14.70 seconds\n"
     ]
    },
    {
     "name": "stderr",
     "output_type": "stream",
     "text": [
      " 65%|██████▌   | 65/100 [16:10<08:37, 14.79s/it]"
     ]
    },
    {
     "name": "stdout",
     "output_type": "stream",
     "text": [
      "Runtime: 14.71 seconds\n"
     ]
    },
    {
     "name": "stderr",
     "output_type": "stream",
     "text": [
      " 66%|██████▌   | 66/100 [16:25<08:22, 14.78s/it]"
     ]
    },
    {
     "name": "stdout",
     "output_type": "stream",
     "text": [
      "Runtime: 14.70 seconds\n"
     ]
    },
    {
     "name": "stderr",
     "output_type": "stream",
     "text": [
      " 67%|██████▋   | 67/100 [16:40<08:07, 14.77s/it]"
     ]
    },
    {
     "name": "stdout",
     "output_type": "stream",
     "text": [
      "Runtime: 14.70 seconds\n"
     ]
    },
    {
     "name": "stderr",
     "output_type": "stream",
     "text": [
      " 68%|██████▊   | 68/100 [16:54<07:52, 14.77s/it]"
     ]
    },
    {
     "name": "stdout",
     "output_type": "stream",
     "text": [
      "Runtime: 14.70 seconds\n"
     ]
    },
    {
     "name": "stderr",
     "output_type": "stream",
     "text": [
      " 69%|██████▉   | 69/100 [17:09<07:37, 14.76s/it]"
     ]
    },
    {
     "name": "stdout",
     "output_type": "stream",
     "text": [
      "Runtime: 14.67 seconds\n"
     ]
    },
    {
     "name": "stderr",
     "output_type": "stream",
     "text": [
      " 70%|███████   | 70/100 [17:24<07:22, 14.75s/it]"
     ]
    },
    {
     "name": "stdout",
     "output_type": "stream",
     "text": [
      "Runtime: 14.67 seconds\n"
     ]
    },
    {
     "name": "stderr",
     "output_type": "stream",
     "text": [
      " 71%|███████   | 71/100 [17:39<07:07, 14.75s/it]"
     ]
    },
    {
     "name": "stdout",
     "output_type": "stream",
     "text": [
      "Runtime: 14.69 seconds\n"
     ]
    },
    {
     "name": "stderr",
     "output_type": "stream",
     "text": [
      " 72%|███████▏  | 72/100 [17:53<06:53, 14.75s/it]"
     ]
    },
    {
     "name": "stdout",
     "output_type": "stream",
     "text": [
      "Runtime: 14.70 seconds\n"
     ]
    },
    {
     "name": "stderr",
     "output_type": "stream",
     "text": [
      " 73%|███████▎  | 73/100 [18:08<06:38, 14.75s/it]"
     ]
    },
    {
     "name": "stdout",
     "output_type": "stream",
     "text": [
      "Runtime: 14.70 seconds\n"
     ]
    },
    {
     "name": "stderr",
     "output_type": "stream",
     "text": [
      " 74%|███████▍  | 74/100 [18:23<06:23, 14.76s/it]"
     ]
    },
    {
     "name": "stdout",
     "output_type": "stream",
     "text": [
      "Runtime: 14.70 seconds\n"
     ]
    },
    {
     "name": "stderr",
     "output_type": "stream",
     "text": [
      " 75%|███████▌  | 75/100 [18:38<06:11, 14.86s/it]"
     ]
    },
    {
     "name": "stdout",
     "output_type": "stream",
     "text": [
      "Runtime: 15.05 seconds\n"
     ]
    },
    {
     "name": "stderr",
     "output_type": "stream",
     "text": [
      " 76%|███████▌  | 76/100 [18:53<05:59, 14.96s/it]"
     ]
    },
    {
     "name": "stdout",
     "output_type": "stream",
     "text": [
      "Runtime: 15.12 seconds\n"
     ]
    },
    {
     "name": "stderr",
     "output_type": "stream",
     "text": [
      " 77%|███████▋  | 77/100 [19:08<05:43, 14.93s/it]"
     ]
    },
    {
     "name": "stdout",
     "output_type": "stream",
     "text": [
      "Runtime: 14.81 seconds\n"
     ]
    },
    {
     "name": "stderr",
     "output_type": "stream",
     "text": [
      " 78%|███████▊  | 78/100 [19:23<05:28, 14.92s/it]"
     ]
    },
    {
     "name": "stdout",
     "output_type": "stream",
     "text": [
      "Runtime: 14.85 seconds\n"
     ]
    },
    {
     "name": "stderr",
     "output_type": "stream",
     "text": [
      " 79%|███████▉  | 79/100 [19:38<05:13, 14.94s/it]"
     ]
    },
    {
     "name": "stdout",
     "output_type": "stream",
     "text": [
      "Runtime: 14.92 seconds\n"
     ]
    },
    {
     "name": "stderr",
     "output_type": "stream",
     "text": [
      " 80%|████████  | 80/100 [19:53<04:57, 14.90s/it]"
     ]
    },
    {
     "name": "stdout",
     "output_type": "stream",
     "text": [
      "Runtime: 14.74 seconds\n"
     ]
    },
    {
     "name": "stderr",
     "output_type": "stream",
     "text": [
      " 81%|████████  | 81/100 [20:08<04:43, 14.90s/it]"
     ]
    },
    {
     "name": "stdout",
     "output_type": "stream",
     "text": [
      "Runtime: 14.72 seconds\n"
     ]
    },
    {
     "name": "stderr",
     "output_type": "stream",
     "text": [
      " 82%|████████▏ | 82/100 [20:22<04:27, 14.86s/it]"
     ]
    },
    {
     "name": "stdout",
     "output_type": "stream",
     "text": [
      "Runtime: 14.71 seconds\n"
     ]
    },
    {
     "name": "stderr",
     "output_type": "stream",
     "text": [
      " 83%|████████▎ | 83/100 [20:37<04:12, 14.84s/it]"
     ]
    },
    {
     "name": "stdout",
     "output_type": "stream",
     "text": [
      "Runtime: 14.71 seconds\n"
     ]
    },
    {
     "name": "stderr",
     "output_type": "stream",
     "text": [
      " 84%|████████▍ | 84/100 [20:52<03:57, 14.81s/it]"
     ]
    },
    {
     "name": "stdout",
     "output_type": "stream",
     "text": [
      "Runtime: 14.71 seconds\n"
     ]
    },
    {
     "name": "stderr",
     "output_type": "stream",
     "text": [
      " 85%|████████▌ | 85/100 [21:07<03:41, 14.78s/it]"
     ]
    },
    {
     "name": "stdout",
     "output_type": "stream",
     "text": [
      "Runtime: 14.65 seconds\n"
     ]
    },
    {
     "name": "stderr",
     "output_type": "stream",
     "text": [
      " 86%|████████▌ | 86/100 [21:21<03:26, 14.77s/it]"
     ]
    },
    {
     "name": "stdout",
     "output_type": "stream",
     "text": [
      "Runtime: 14.69 seconds\n"
     ]
    },
    {
     "name": "stderr",
     "output_type": "stream",
     "text": [
      " 87%|████████▋ | 87/100 [21:36<03:12, 14.78s/it]"
     ]
    },
    {
     "name": "stdout",
     "output_type": "stream",
     "text": [
      "Runtime: 14.72 seconds\n"
     ]
    },
    {
     "name": "stderr",
     "output_type": "stream",
     "text": [
      " 88%|████████▊ | 88/100 [21:51<02:57, 14.76s/it]"
     ]
    },
    {
     "name": "stdout",
     "output_type": "stream",
     "text": [
      "Runtime: 14.64 seconds\n"
     ]
    },
    {
     "name": "stderr",
     "output_type": "stream",
     "text": [
      " 89%|████████▉ | 89/100 [22:06<02:42, 14.77s/it]"
     ]
    },
    {
     "name": "stdout",
     "output_type": "stream",
     "text": [
      "Runtime: 14.70 seconds\n"
     ]
    },
    {
     "name": "stderr",
     "output_type": "stream",
     "text": [
      " 90%|█████████ | 90/100 [22:20<02:27, 14.78s/it]"
     ]
    },
    {
     "name": "stdout",
     "output_type": "stream",
     "text": [
      "Runtime: 14.72 seconds\n"
     ]
    },
    {
     "name": "stderr",
     "output_type": "stream",
     "text": [
      " 91%|█████████ | 91/100 [22:35<02:13, 14.81s/it]"
     ]
    },
    {
     "name": "stdout",
     "output_type": "stream",
     "text": [
      "Runtime: 14.81 seconds\n"
     ]
    },
    {
     "name": "stderr",
     "output_type": "stream",
     "text": [
      " 92%|█████████▏| 92/100 [22:50<01:58, 14.79s/it]"
     ]
    },
    {
     "name": "stdout",
     "output_type": "stream",
     "text": [
      "Runtime: 14.71 seconds\n"
     ]
    },
    {
     "name": "stderr",
     "output_type": "stream",
     "text": [
      " 93%|█████████▎| 93/100 [23:05<01:43, 14.83s/it]"
     ]
    },
    {
     "name": "stdout",
     "output_type": "stream",
     "text": [
      "Runtime: 14.87 seconds\n"
     ]
    },
    {
     "name": "stderr",
     "output_type": "stream",
     "text": [
      " 94%|█████████▍| 94/100 [23:20<01:29, 14.86s/it]"
     ]
    },
    {
     "name": "stdout",
     "output_type": "stream",
     "text": [
      "Runtime: 14.85 seconds\n"
     ]
    },
    {
     "name": "stderr",
     "output_type": "stream",
     "text": [
      " 95%|█████████▌| 95/100 [23:35<01:15, 15.04s/it]"
     ]
    },
    {
     "name": "stdout",
     "output_type": "stream",
     "text": [
      "Runtime: 15.41 seconds\n"
     ]
    },
    {
     "name": "stderr",
     "output_type": "stream",
     "text": [
      " 96%|█████████▌| 96/100 [23:50<01:00, 15.07s/it]"
     ]
    },
    {
     "name": "stdout",
     "output_type": "stream",
     "text": [
      "Runtime: 15.05 seconds\n"
     ]
    },
    {
     "name": "stderr",
     "output_type": "stream",
     "text": [
      " 97%|█████████▋| 97/100 [24:05<00:45, 15.01s/it]"
     ]
    },
    {
     "name": "stdout",
     "output_type": "stream",
     "text": [
      "Runtime: 14.83 seconds\n"
     ]
    },
    {
     "name": "stderr",
     "output_type": "stream",
     "text": [
      " 98%|█████████▊| 98/100 [24:20<00:30, 15.02s/it]"
     ]
    },
    {
     "name": "stdout",
     "output_type": "stream",
     "text": [
      "Runtime: 14.99 seconds\n"
     ]
    },
    {
     "name": "stderr",
     "output_type": "stream",
     "text": [
      " 99%|█████████▉| 99/100 [24:35<00:14, 14.95s/it]"
     ]
    },
    {
     "name": "stdout",
     "output_type": "stream",
     "text": [
      "Runtime: 14.74 seconds\n"
     ]
    },
    {
     "name": "stderr",
     "output_type": "stream",
     "text": [
      "100%|██████████| 100/100 [24:50<00:00, 14.90s/it]"
     ]
    },
    {
     "name": "stdout",
     "output_type": "stream",
     "text": [
      "Runtime: 14.73 seconds\n",
      "Please enjoy the results in results/inn_jpeg_qf10...\n"
     ]
    },
    {
     "name": "stderr",
     "output_type": "stream",
     "text": [
      "\n"
     ]
    }
   ],
   "source": [
    "%run inference_compression.py \\\n",
    "    -i testdata/jpeg_qf10 -o results/inn_jpeg_qf10 --task restoration \\\n",
    "    --eta 0.5 --aligned  --use_fp16 \\\n",
    "    --config_indigo configs/sample/indigo_syn_jpeg_qf10.yaml"
   ]
  },
  {
   "cell_type": "code",
   "execution_count": null,
   "metadata": {},
   "outputs": [],
   "source": []
  }
 ],
 "metadata": {
  "kernelspec": {
   "display_name": "indigo_fix",
   "language": "python",
   "name": "indigo_v2"
  },
  "language_info": {
   "codemirror_mode": {
    "name": "ipython",
    "version": 3
   },
   "file_extension": ".py",
   "mimetype": "text/x-python",
   "name": "python",
   "nbconvert_exporter": "python",
   "pygments_lexer": "ipython3",
   "version": "3.12.9"
  }
 },
 "nbformat": 4,
 "nbformat_minor": 2
}
